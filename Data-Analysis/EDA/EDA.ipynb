{
 "cells": [
  {
   "cell_type": "markdown",
   "id": "c5d6bfc2-a1cf-4c49-be54-54031bf2283c",
   "metadata": {},
   "source": [
    "# Análisis exploratorio (EDA) de la base de datos EE1"
   ]
  },
  {
   "cell_type": "markdown",
   "id": "57e953c9",
   "metadata": {},
   "source": [
    "## Importacion de librerias y archivos CSV"
   ]
  },
  {
   "cell_type": "code",
   "execution_count": 1,
   "id": "85dbdf3b",
   "metadata": {},
   "outputs": [
    {
     "name": "stdout",
     "output_type": "stream",
     "text": [
      "Collecting pymysql\n",
      "  Downloading PyMySQL-1.1.1-py3-none-any.whl.metadata (4.4 kB)\n",
      "Downloading PyMySQL-1.1.1-py3-none-any.whl (44 kB)\n",
      "\u001b[2K   \u001b[90m━━━━━━━━━━━━━━━━━━━━━━━━━━━━━━━━━━━━━━━━\u001b[0m \u001b[32m45.0/45.0 kB\u001b[0m \u001b[31m3.7 MB/s\u001b[0m eta \u001b[36m0:00:00\u001b[0m\n",
      "\u001b[?25hInstalling collected packages: pymysql\n",
      "Successfully installed pymysql-1.1.1\n"
     ]
    }
   ],
   "source": [
    "!pip install pymysql\n"
   ]
  },
  {
   "cell_type": "markdown",
   "id": "00c75df5-adea-4d3f-9a10-88ede580aa04",
   "metadata": {},
   "source": [
    "Importamos las librerias que vamos a utilizar."
   ]
  },
  {
   "cell_type": "code",
   "execution_count": 2,
   "id": "b27ce952",
   "metadata": {},
   "outputs": [],
   "source": [
    "import pandas as pd\n",
    "from sklearn.impute import KNNImputer\n",
    "from sqlalchemy import create_engine, Column, String, Integer, Float, Date, ForeignKey,text\n",
    "from sqlalchemy.orm import sessionmaker, declarative_base\n",
    "import matplotlib.pyplot as plt\n",
    "import seaborn as sns"
   ]
  },
  {
   "cell_type": "code",
   "execution_count": 3,
   "id": "213ec763-1e29-43e7-a21e-53cdca3d01c9",
   "metadata": {},
   "outputs": [],
   "source": [
    "# Leer los CSVs en DataFrames\n",
    "country_data =  pd.read_csv(\"ufc_country_data.csv\")\n",
    "events_stats = pd.read_csv(\"ufc_events_stats.csv\")\n",
    "fighters_stats = pd.read_csv(\"ufc_fighters_stats.csv\")"
   ]
  },
  {
   "cell_type": "markdown",
   "id": "4918c37d",
   "metadata": {},
   "source": [
    "## Limpieza, creacion de tablas e importacion de datos"
   ]
  },
  {
   "cell_type": "markdown",
   "id": "e1176924",
   "metadata": {},
   "source": [
    "###  Limpieza de los archivos csv"
   ]
  },
  {
   "cell_type": "markdown",
   "id": "507450fa-5ef1-4541-844c-b06e6b2a9f78",
   "metadata": {},
   "source": [
    "Ahora vemos cada csv y las columnas que tiene, posibles valores nulos etc..."
   ]
  },
  {
   "cell_type": "markdown",
   "id": "8a206a47-2e92-4442-a009-9c9a8bcb2747",
   "metadata": {},
   "source": [
    "#### 1) CSV country_data.csv"
   ]
  },
  {
   "cell_type": "code",
   "execution_count": 4,
   "id": "ad9852c9-9415-489a-ab34-333b5ec685bf",
   "metadata": {},
   "outputs": [
    {
     "data": {
      "text/html": [
       "<div>\n",
       "<style scoped>\n",
       "    .dataframe tbody tr th:only-of-type {\n",
       "        vertical-align: middle;\n",
       "    }\n",
       "\n",
       "    .dataframe tbody tr th {\n",
       "        vertical-align: top;\n",
       "    }\n",
       "\n",
       "    .dataframe thead th {\n",
       "        text-align: right;\n",
       "    }\n",
       "</style>\n",
       "<table border=\"1\" class=\"dataframe\">\n",
       "  <thead>\n",
       "    <tr style=\"text-align: right;\">\n",
       "      <th></th>\n",
       "      <th>country</th>\n",
       "      <th>country_code</th>\n",
       "      <th>avg_temperature_celsius</th>\n",
       "      <th>avg_elevation_meters</th>\n",
       "      <th>gdp_2023_billion_usd</th>\n",
       "      <th>unemployment_rate_2023</th>\n",
       "      <th>total_population</th>\n",
       "      <th>female_pop_total_percent</th>\n",
       "      <th>male_pop_total_percent</th>\n",
       "      <th>population_growth_2023</th>\n",
       "      <th>working_age_pop_percent</th>\n",
       "      <th>percent_of_internet_users</th>\n",
       "      <th>percent_of_internet_users_2022</th>\n",
       "      <th>dependency_ratio_2023</th>\n",
       "    </tr>\n",
       "  </thead>\n",
       "  <tbody>\n",
       "    <tr>\n",
       "      <th>0</th>\n",
       "      <td>Angola</td>\n",
       "      <td>AGO</td>\n",
       "      <td>21.77</td>\n",
       "      <td>1112.0</td>\n",
       "      <td>84.824654</td>\n",
       "      <td>NaN</td>\n",
       "      <td>36749906</td>\n",
       "      <td>50.525887</td>\n",
       "      <td>49.474113</td>\n",
       "      <td>3.080655</td>\n",
       "      <td>52.616286</td>\n",
       "      <td>NaN</td>\n",
       "      <td>39.2935</td>\n",
       "      <td>90.055225</td>\n",
       "    </tr>\n",
       "    <tr>\n",
       "      <th>1</th>\n",
       "      <td>Argentina</td>\n",
       "      <td>ARG</td>\n",
       "      <td>16.30</td>\n",
       "      <td>595.0</td>\n",
       "      <td>646.075278</td>\n",
       "      <td>6.139</td>\n",
       "      <td>45538401</td>\n",
       "      <td>50.378178</td>\n",
       "      <td>49.621822</td>\n",
       "      <td>0.286976</td>\n",
       "      <td>65.606321</td>\n",
       "      <td>89.2290</td>\n",
       "      <td>88.3754</td>\n",
       "      <td>52.424337</td>\n",
       "    </tr>\n",
       "    <tr>\n",
       "      <th>2</th>\n",
       "      <td>Australia</td>\n",
       "      <td>AUS</td>\n",
       "      <td>22.05</td>\n",
       "      <td>330.0</td>\n",
       "      <td>1728.057317</td>\n",
       "      <td>3.668</td>\n",
       "      <td>26658948</td>\n",
       "      <td>50.385263</td>\n",
       "      <td>49.614737</td>\n",
       "      <td>2.447466</td>\n",
       "      <td>64.585692</td>\n",
       "      <td>NaN</td>\n",
       "      <td>94.8762</td>\n",
       "      <td>54.833055</td>\n",
       "    </tr>\n",
       "    <tr>\n",
       "      <th>3</th>\n",
       "      <td>Austria</td>\n",
       "      <td>AUT</td>\n",
       "      <td>7.44</td>\n",
       "      <td>910.0</td>\n",
       "      <td>511.685204</td>\n",
       "      <td>5.264</td>\n",
       "      <td>9131761</td>\n",
       "      <td>50.779585</td>\n",
       "      <td>49.220415</td>\n",
       "      <td>0.989465</td>\n",
       "      <td>65.533345</td>\n",
       "      <td>95.3347</td>\n",
       "      <td>93.6141</td>\n",
       "      <td>52.594084</td>\n",
       "    </tr>\n",
       "    <tr>\n",
       "      <th>4</th>\n",
       "      <td>Brazil</td>\n",
       "      <td>BRA</td>\n",
       "      <td>25.44</td>\n",
       "      <td>320.0</td>\n",
       "      <td>2173.665656</td>\n",
       "      <td>7.947</td>\n",
       "      <td>211140729</td>\n",
       "      <td>50.784928</td>\n",
       "      <td>49.215072</td>\n",
       "      <td>0.395929</td>\n",
       "      <td>69.430416</td>\n",
       "      <td>84.1506</td>\n",
       "      <td>80.5278</td>\n",
       "      <td>44.029095</td>\n",
       "    </tr>\n",
       "  </tbody>\n",
       "</table>\n",
       "</div>"
      ],
      "text/plain": [
       "     country country_code  avg_temperature_celsius  avg_elevation_meters  \\\n",
       "0     Angola          AGO                    21.77                1112.0   \n",
       "1  Argentina          ARG                    16.30                 595.0   \n",
       "2  Australia          AUS                    22.05                 330.0   \n",
       "3    Austria          AUT                     7.44                 910.0   \n",
       "4     Brazil          BRA                    25.44                 320.0   \n",
       "\n",
       "   gdp_2023_billion_usd  unemployment_rate_2023  total_population  \\\n",
       "0             84.824654                     NaN          36749906   \n",
       "1            646.075278                   6.139          45538401   \n",
       "2           1728.057317                   3.668          26658948   \n",
       "3            511.685204                   5.264           9131761   \n",
       "4           2173.665656                   7.947         211140729   \n",
       "\n",
       "   female_pop_total_percent  male_pop_total_percent  population_growth_2023  \\\n",
       "0                 50.525887               49.474113                3.080655   \n",
       "1                 50.378178               49.621822                0.286976   \n",
       "2                 50.385263               49.614737                2.447466   \n",
       "3                 50.779585               49.220415                0.989465   \n",
       "4                 50.784928               49.215072                0.395929   \n",
       "\n",
       "   working_age_pop_percent  percent_of_internet_users  \\\n",
       "0                52.616286                        NaN   \n",
       "1                65.606321                    89.2290   \n",
       "2                64.585692                        NaN   \n",
       "3                65.533345                    95.3347   \n",
       "4                69.430416                    84.1506   \n",
       "\n",
       "   percent_of_internet_users_2022  dependency_ratio_2023  \n",
       "0                         39.2935              90.055225  \n",
       "1                         88.3754              52.424337  \n",
       "2                         94.8762              54.833055  \n",
       "3                         93.6141              52.594084  \n",
       "4                         80.5278              44.029095  "
      ]
     },
     "execution_count": 4,
     "metadata": {},
     "output_type": "execute_result"
    }
   ],
   "source": [
    "country_data.head()"
   ]
  },
  {
   "cell_type": "code",
   "execution_count": 5,
   "id": "ae4743fd-4ee5-4edf-b004-ca776ee0f28d",
   "metadata": {},
   "outputs": [
    {
     "name": "stdout",
     "output_type": "stream",
     "text": [
      "country                            0\n",
      "country_code                       0\n",
      "avg_temperature_celsius            1\n",
      "avg_elevation_meters               1\n",
      "gdp_2023_billion_usd               0\n",
      "unemployment_rate_2023            12\n",
      "total_population                   0\n",
      "female_pop_total_percent           0\n",
      "male_pop_total_percent             0\n",
      "population_growth_2023             0\n",
      "working_age_pop_percent            0\n",
      "percent_of_internet_users         19\n",
      "percent_of_internet_users_2022     2\n",
      "dependency_ratio_2023              0\n",
      "dtype: int64\n"
     ]
    }
   ],
   "source": [
    "print(country_data.isnull().sum())"
   ]
  },
  {
   "cell_type": "markdown",
   "id": "18a0a6ad",
   "metadata": {},
   "source": [
    "Vemos que las en la columna avg_temperature_celsius y avg_elevation_meters hay una fila vacia, vamos a comprobar si es la misma "
   ]
  },
  {
   "cell_type": "code",
   "execution_count": 6,
   "id": "c990ec0f",
   "metadata": {},
   "outputs": [
    {
     "name": "stdout",
     "output_type": "stream",
     "text": [
      "20    Kyrgyz Republic\n",
      "Name: country, dtype: object\n",
      "20    Kyrgyz Republic\n",
      "Name: country, dtype: object\n"
     ]
    }
   ],
   "source": [
    "print(country_data[country_data[\"avg_temperature_celsius\"].isnull()][\"country\"])\n",
    "print(country_data[country_data[\"avg_elevation_meters\"].isnull()][\"country\"])\n",
    "\n"
   ]
  },
  {
   "cell_type": "markdown",
   "id": "4c6326ad",
   "metadata": {},
   "source": [
    "Vemos que es el mismo pais *\"Kyrgyz Republic\"*, para ver si se trata de un pais relevante,comprobamos si hay algun luchador o algun evento en este pais:"
   ]
  },
  {
   "cell_type": "markdown",
   "id": "8fc97117",
   "metadata": {},
   "source": [
    "(También lo comprobamos con *\"Kyrgyzstan\"* por si acaso aparece distinto en el otro csv)"
   ]
  },
  {
   "cell_type": "code",
   "execution_count": 7,
   "id": "8e38654b",
   "metadata": {},
   "outputs": [
    {
     "name": "stdout",
     "output_type": "stream",
     "text": [
      "2\n"
     ]
    }
   ],
   "source": [
    "print(fighters_stats[(fighters_stats[\"country\"] == 'Kyrgyz Republic') | (fighters_stats[\"country\"] == 'Kyrgyzstan')].shape[0])\n"
   ]
  },
  {
   "cell_type": "code",
   "execution_count": 8,
   "id": "107dd28e",
   "metadata": {},
   "outputs": [
    {
     "name": "stdout",
     "output_type": "stream",
     "text": [
      "0\n"
     ]
    }
   ],
   "source": [
    "print(events_stats[(events_stats[\"country\"]=='Kyrgyz Republic') | (events_stats[\"country\"] == 'Kyrgyzstan')].shape[0])"
   ]
  },
  {
   "cell_type": "markdown",
   "id": "e7683bef",
   "metadata": {},
   "source": [
    "Vemos que existe alguna relacion entre este pais y el resto de tablas, y por lo tanto decidimos quitar las columnas avg_temperature_celsius y avg_elevation_meters, junto con el resto de columnas con datos vacios , las columnas unemployment_rate_2023, percent_of_internet_users, percent_of_internet_users_2022. Dado que estos datos no son esenciales para nuestro análisis exploratorio, podemos prescindir de ellos y eliminar estas columnas. "
   ]
  },
  {
   "cell_type": "code",
   "execution_count": 9,
   "id": "81858259",
   "metadata": {},
   "outputs": [],
   "source": [
    "country_data_clean =country_data.drop(columns=[\"unemployment_rate_2023\",\"percent_of_internet_users\",\"percent_of_internet_users_2022\",\"avg_temperature_celsius\",\"avg_elevation_meters\"])"
   ]
  },
  {
   "cell_type": "code",
   "execution_count": 10,
   "id": "4afd8132",
   "metadata": {},
   "outputs": [
    {
     "name": "stdout",
     "output_type": "stream",
     "text": [
      "country                     0\n",
      "country_code                0\n",
      "gdp_2023_billion_usd        0\n",
      "total_population            0\n",
      "female_pop_total_percent    0\n",
      "male_pop_total_percent      0\n",
      "population_growth_2023      0\n",
      "working_age_pop_percent     0\n",
      "dependency_ratio_2023       0\n",
      "dtype: int64\n"
     ]
    }
   ],
   "source": [
    "print(country_data_clean.isnull().sum())"
   ]
  },
  {
   "cell_type": "markdown",
   "id": "9c888fdc-b265-4b39-a09d-7a098ccf90cb",
   "metadata": {},
   "source": [
    "#### 2) CSV ufc_events_stats.csv"
   ]
  },
  {
   "cell_type": "code",
   "execution_count": 11,
   "id": "1711baac-f0e2-4c5d-b843-2392c53d7721",
   "metadata": {},
   "outputs": [
    {
     "data": {
      "text/html": [
       "<div>\n",
       "<style scoped>\n",
       "    .dataframe tbody tr th:only-of-type {\n",
       "        vertical-align: middle;\n",
       "    }\n",
       "\n",
       "    .dataframe tbody tr th {\n",
       "        vertical-align: top;\n",
       "    }\n",
       "\n",
       "    .dataframe thead th {\n",
       "        text-align: right;\n",
       "    }\n",
       "</style>\n",
       "<table border=\"1\" class=\"dataframe\">\n",
       "  <thead>\n",
       "    <tr style=\"text-align: right;\">\n",
       "      <th></th>\n",
       "      <th>event_category</th>\n",
       "      <th>fighter_1</th>\n",
       "      <th>fighter_2</th>\n",
       "      <th>date</th>\n",
       "      <th>venue</th>\n",
       "      <th>city</th>\n",
       "      <th>state_province</th>\n",
       "      <th>country</th>\n",
       "      <th>attendance</th>\n",
       "    </tr>\n",
       "  </thead>\n",
       "  <tbody>\n",
       "    <tr>\n",
       "      <th>0</th>\n",
       "      <td>UFC on ESPN</td>\n",
       "      <td>Covington</td>\n",
       "      <td>Buckley</td>\n",
       "      <td>Dec 14, 2024</td>\n",
       "      <td>Amalie Arena</td>\n",
       "      <td>Tampa</td>\n",
       "      <td>Florida</td>\n",
       "      <td>United States</td>\n",
       "      <td>18625.0</td>\n",
       "    </tr>\n",
       "    <tr>\n",
       "      <th>1</th>\n",
       "      <td>UFC 310</td>\n",
       "      <td>Pantoja</td>\n",
       "      <td>Asakura</td>\n",
       "      <td>Dec 7, 2024</td>\n",
       "      <td>T-Mobile Arena</td>\n",
       "      <td>Las Vegas</td>\n",
       "      <td>Nevada</td>\n",
       "      <td>United States</td>\n",
       "      <td>18648.0</td>\n",
       "    </tr>\n",
       "    <tr>\n",
       "      <th>2</th>\n",
       "      <td>UFC Fight Night</td>\n",
       "      <td>Yan</td>\n",
       "      <td>Figueiredo</td>\n",
       "      <td>Nov 23, 2024</td>\n",
       "      <td>Galaxy Arena</td>\n",
       "      <td>Macau</td>\n",
       "      <td>SAR</td>\n",
       "      <td>China</td>\n",
       "      <td>12615.0</td>\n",
       "    </tr>\n",
       "    <tr>\n",
       "      <th>3</th>\n",
       "      <td>UFC 309</td>\n",
       "      <td>Jones</td>\n",
       "      <td>Miocic</td>\n",
       "      <td>Nov 16, 2024</td>\n",
       "      <td>Madison Square Garden</td>\n",
       "      <td>New York City</td>\n",
       "      <td>New York</td>\n",
       "      <td>United States</td>\n",
       "      <td>20200.0</td>\n",
       "    </tr>\n",
       "    <tr>\n",
       "      <th>4</th>\n",
       "      <td>UFC Fight Night</td>\n",
       "      <td>Magny</td>\n",
       "      <td>Prates</td>\n",
       "      <td>Nov 9, 2024</td>\n",
       "      <td>UFC Apex</td>\n",
       "      <td>Las Vegas</td>\n",
       "      <td>Nevada</td>\n",
       "      <td>United States</td>\n",
       "      <td>NaN</td>\n",
       "    </tr>\n",
       "    <tr>\n",
       "      <th>...</th>\n",
       "      <td>...</td>\n",
       "      <td>...</td>\n",
       "      <td>...</td>\n",
       "      <td>...</td>\n",
       "      <td>...</td>\n",
       "      <td>...</td>\n",
       "      <td>...</td>\n",
       "      <td>...</td>\n",
       "      <td>...</td>\n",
       "    </tr>\n",
       "    <tr>\n",
       "      <th>720</th>\n",
       "      <td>UFC 5</td>\n",
       "      <td>The Return of the Beast</td>\n",
       "      <td>NaN</td>\n",
       "      <td>Apr 7, 1995</td>\n",
       "      <td>Independence Arena</td>\n",
       "      <td>Charlotte</td>\n",
       "      <td>North Carolina</td>\n",
       "      <td>United States</td>\n",
       "      <td>6000.0</td>\n",
       "    </tr>\n",
       "    <tr>\n",
       "      <th>721</th>\n",
       "      <td>UFC 4</td>\n",
       "      <td>Revenge of the Warriors</td>\n",
       "      <td>NaN</td>\n",
       "      <td>Dec 16, 1994</td>\n",
       "      <td>Expo Square Pavilion</td>\n",
       "      <td>Tulsa</td>\n",
       "      <td>Oklahoma</td>\n",
       "      <td>United States</td>\n",
       "      <td>5857.0</td>\n",
       "    </tr>\n",
       "    <tr>\n",
       "      <th>722</th>\n",
       "      <td>UFC 3</td>\n",
       "      <td>The American Dream</td>\n",
       "      <td>NaN</td>\n",
       "      <td>Sep 9, 1994</td>\n",
       "      <td>Grady Cole Center</td>\n",
       "      <td>Charlotte</td>\n",
       "      <td>North Carolina</td>\n",
       "      <td>United States</td>\n",
       "      <td>3000.0</td>\n",
       "    </tr>\n",
       "    <tr>\n",
       "      <th>723</th>\n",
       "      <td>UFC 2</td>\n",
       "      <td>No Way Out</td>\n",
       "      <td>NaN</td>\n",
       "      <td>Mar 11, 1994</td>\n",
       "      <td>Mammoth Gardens</td>\n",
       "      <td>Denver</td>\n",
       "      <td>Colorado</td>\n",
       "      <td>United States</td>\n",
       "      <td>2000.0</td>\n",
       "    </tr>\n",
       "    <tr>\n",
       "      <th>724</th>\n",
       "      <td>UFC 1</td>\n",
       "      <td>The Beginning</td>\n",
       "      <td>NaN</td>\n",
       "      <td>Nov 12, 1993</td>\n",
       "      <td>McNichols Sports Arena</td>\n",
       "      <td>Denver</td>\n",
       "      <td>Colorado</td>\n",
       "      <td>United States</td>\n",
       "      <td>7800.0</td>\n",
       "    </tr>\n",
       "  </tbody>\n",
       "</table>\n",
       "<p>725 rows × 9 columns</p>\n",
       "</div>"
      ],
      "text/plain": [
       "      event_category                 fighter_1    fighter_2          date  \\\n",
       "0        UFC on ESPN                Covington       Buckley  Dec 14, 2024   \n",
       "1            UFC 310                  Pantoja       Asakura   Dec 7, 2024   \n",
       "2    UFC Fight Night                      Yan    Figueiredo  Nov 23, 2024   \n",
       "3            UFC 309                    Jones        Miocic  Nov 16, 2024   \n",
       "4    UFC Fight Night                    Magny        Prates   Nov 9, 2024   \n",
       "..               ...                       ...          ...           ...   \n",
       "720            UFC 5   The Return of the Beast          NaN   Apr 7, 1995   \n",
       "721            UFC 4   Revenge of the Warriors          NaN  Dec 16, 1994   \n",
       "722            UFC 3        The American Dream          NaN   Sep 9, 1994   \n",
       "723            UFC 2                No Way Out          NaN  Mar 11, 1994   \n",
       "724            UFC 1             The Beginning          NaN  Nov 12, 1993   \n",
       "\n",
       "                      venue           city  state_province        country  \\\n",
       "0              Amalie Arena          Tampa         Florida  United States   \n",
       "1            T-Mobile Arena      Las Vegas          Nevada  United States   \n",
       "2              Galaxy Arena          Macau             SAR          China   \n",
       "3     Madison Square Garden  New York City        New York  United States   \n",
       "4                  UFC Apex      Las Vegas          Nevada  United States   \n",
       "..                      ...            ...             ...            ...   \n",
       "720      Independence Arena      Charlotte  North Carolina  United States   \n",
       "721    Expo Square Pavilion          Tulsa        Oklahoma  United States   \n",
       "722       Grady Cole Center      Charlotte  North Carolina  United States   \n",
       "723         Mammoth Gardens         Denver        Colorado  United States   \n",
       "724  McNichols Sports Arena         Denver        Colorado  United States   \n",
       "\n",
       "     attendance  \n",
       "0       18625.0  \n",
       "1       18648.0  \n",
       "2       12615.0  \n",
       "3       20200.0  \n",
       "4           NaN  \n",
       "..          ...  \n",
       "720      6000.0  \n",
       "721      5857.0  \n",
       "722      3000.0  \n",
       "723      2000.0  \n",
       "724      7800.0  \n",
       "\n",
       "[725 rows x 9 columns]"
      ]
     },
     "execution_count": 11,
     "metadata": {},
     "output_type": "execute_result"
    }
   ],
   "source": [
    "events_stats"
   ]
  },
  {
   "cell_type": "code",
   "execution_count": 12,
   "id": "187e41ec-a2c5-422f-95b8-fc5772d6710e",
   "metadata": {},
   "outputs": [
    {
     "name": "stdout",
     "output_type": "stream",
     "text": [
      "event_category      0\n",
      "fighter_1           8\n",
      "fighter_2         108\n",
      "date                0\n",
      "venue               0\n",
      "city                0\n",
      "state_province    143\n",
      "country             0\n",
      "attendance        104\n",
      "dtype: int64\n"
     ]
    }
   ],
   "source": [
    "print(events_stats.isnull().sum())"
   ]
  },
  {
   "cell_type": "markdown",
   "id": "0bc8a9bf",
   "metadata": {},
   "source": [
    "Vemos que hay algun nombre de luchador vacio, sobre todo en los eventos mas antiguos, esto es debido a que no se anunciaban con cabezas de cartelera, es decir, con los nombres de los luchadores, si no que se anunciaban con un determinado nombre de evento."
   ]
  },
  {
   "cell_type": "markdown",
   "id": "57dd8038",
   "metadata": {},
   "source": [
    "Por lo tanto entramos en el dilema de si prescindir, de los nombres de cartelera y por lo tanto solo tener el nombre de la categoría del evento o prescindir de los eventos que no tengan  nombres de cartelera."
   ]
  },
  {
   "cell_type": "markdown",
   "id": "1b1dcb42",
   "metadata": {},
   "source": [
    "Los eventos que se perderian si realizamos la segunda opcion seria de un 15% es una cantidad relativamente grande, ademas hay que tener en cuenta que fighter_1 y fighter_2 no es un dato que representaria todos los luchadores que hay en ese evento, por lo tanto, lo mejor seria prescindir de estas dos columnas para no complicar demasiado las relaciones."
   ]
  },
  {
   "cell_type": "code",
   "execution_count": 13,
   "id": "3c6704e7",
   "metadata": {},
   "outputs": [],
   "source": [
    "events_stats = events_stats.drop(columns=[\"fighter_1\",\"fighter_2\"])"
   ]
  },
  {
   "cell_type": "code",
   "execution_count": 14,
   "id": "895014fa",
   "metadata": {},
   "outputs": [
    {
     "name": "stdout",
     "output_type": "stream",
     "text": [
      "event_category      0\n",
      "date                0\n",
      "venue               0\n",
      "city                0\n",
      "state_province    143\n",
      "country             0\n",
      "attendance        104\n",
      "dtype: int64\n"
     ]
    }
   ],
   "source": [
    "print(events_stats.isnull().sum())"
   ]
  },
  {
   "cell_type": "markdown",
   "id": "cca447cc",
   "metadata": {},
   "source": [
    "Ahora tenemos como columnas con datos faltantes state_province (representa el estado de la ciudad donde se realiza el evento, es logico que para ciudades que no esten en EEUU y por lo tanto no pertenezcan a ningun estado, esten vacios) y la columna attendance que representa el aforo completado en cada evento, podriamos usar alguna tecnica como KNN imputer para rellenar estos valores. Como state province no es un dato imprescindible para el analisis exploratorio, nos deshacemos de esta columna."
   ]
  },
  {
   "cell_type": "code",
   "execution_count": 15,
   "id": "abc13cfc",
   "metadata": {},
   "outputs": [],
   "source": [
    "# Eliminar la columna state_province\n",
    "events_stats_clean = events_stats.drop(columns=[\"state_province\"]).copy()\n",
    "\n",
    "# Crear un KNN Imputer con un valor de 5 vecinos\n",
    "imputer = KNNImputer(n_neighbors=5)\n",
    "\n",
    "# Aplicar KNN Imputer solo a la columna attendance\n",
    "events_stats_clean[\"attendance\"] = imputer.fit_transform(events_stats_clean[[\"attendance\"]])\n",
    "\n"
   ]
  },
  {
   "cell_type": "code",
   "execution_count": 16,
   "id": "26352b06",
   "metadata": {},
   "outputs": [
    {
     "name": "stdout",
     "output_type": "stream",
     "text": [
      "event_category    0\n",
      "date              0\n",
      "venue             0\n",
      "city              0\n",
      "country           0\n",
      "attendance        0\n",
      "dtype: int64\n"
     ]
    }
   ],
   "source": [
    "print(events_stats_clean.isnull().sum())"
   ]
  },
  {
   "cell_type": "markdown",
   "id": "ec5e8fbb-3128-4cab-8094-a416ff2e6ee9",
   "metadata": {},
   "source": [
    "#### 3) CSV ufc_fighters_stats.csv"
   ]
  },
  {
   "cell_type": "code",
   "execution_count": 17,
   "id": "e7729dc6-51f8-4104-a19d-c53adb0978e7",
   "metadata": {},
   "outputs": [
    {
     "data": {
      "text/html": [
       "<div>\n",
       "<style scoped>\n",
       "    .dataframe tbody tr th:only-of-type {\n",
       "        vertical-align: middle;\n",
       "    }\n",
       "\n",
       "    .dataframe tbody tr th {\n",
       "        vertical-align: top;\n",
       "    }\n",
       "\n",
       "    .dataframe thead th {\n",
       "        text-align: right;\n",
       "    }\n",
       "</style>\n",
       "<table border=\"1\" class=\"dataframe\">\n",
       "  <thead>\n",
       "    <tr style=\"text-align: right;\">\n",
       "      <th></th>\n",
       "      <th>first_name</th>\n",
       "      <th>last_name</th>\n",
       "      <th>nickname</th>\n",
       "      <th>city</th>\n",
       "      <th>country</th>\n",
       "      <th>age</th>\n",
       "      <th>wins</th>\n",
       "      <th>losses</th>\n",
       "      <th>draws</th>\n",
       "      <th>win_percent</th>\n",
       "      <th>lose_percent</th>\n",
       "      <th>num_of_fights</th>\n",
       "      <th>weight_division</th>\n",
       "      <th>height_ft</th>\n",
       "      <th>weight_lbs</th>\n",
       "      <th>arm_reach_inch</th>\n",
       "      <th>leg_reach_inch</th>\n",
       "      <th>fighting_style</th>\n",
       "      <th>debut</th>\n",
       "    </tr>\n",
       "  </thead>\n",
       "  <tbody>\n",
       "    <tr>\n",
       "      <th>0</th>\n",
       "      <td>Islam</td>\n",
       "      <td>Makhachev</td>\n",
       "      <td>NaN</td>\n",
       "      <td>Dagestan Republic</td>\n",
       "      <td>Russia</td>\n",
       "      <td>33</td>\n",
       "      <td>26</td>\n",
       "      <td>1</td>\n",
       "      <td>0</td>\n",
       "      <td>96.296296</td>\n",
       "      <td>3.703704</td>\n",
       "      <td>27</td>\n",
       "      <td>Lightweight Division</td>\n",
       "      <td>5.833333</td>\n",
       "      <td>155.0</td>\n",
       "      <td>70.5</td>\n",
       "      <td>40.5</td>\n",
       "      <td>Sambo</td>\n",
       "      <td>2015-05-23</td>\n",
       "    </tr>\n",
       "    <tr>\n",
       "      <th>1</th>\n",
       "      <td>Jon</td>\n",
       "      <td>Jones</td>\n",
       "      <td>Bones</td>\n",
       "      <td>Rochester</td>\n",
       "      <td>United States</td>\n",
       "      <td>37</td>\n",
       "      <td>28</td>\n",
       "      <td>1</td>\n",
       "      <td>0</td>\n",
       "      <td>96.551724</td>\n",
       "      <td>3.448276</td>\n",
       "      <td>29</td>\n",
       "      <td>Heavyweight Division</td>\n",
       "      <td>6.333333</td>\n",
       "      <td>237.6</td>\n",
       "      <td>84.5</td>\n",
       "      <td>45.0</td>\n",
       "      <td>NaN</td>\n",
       "      <td>2008-08-09</td>\n",
       "    </tr>\n",
       "    <tr>\n",
       "      <th>2</th>\n",
       "      <td>Alex</td>\n",
       "      <td>Pereira</td>\n",
       "      <td>Poatan</td>\n",
       "      <td>São Bernardo do Campo</td>\n",
       "      <td>Brazil</td>\n",
       "      <td>37</td>\n",
       "      <td>12</td>\n",
       "      <td>2</td>\n",
       "      <td>0</td>\n",
       "      <td>85.714286</td>\n",
       "      <td>14.285714</td>\n",
       "      <td>14</td>\n",
       "      <td>Light Heavyweight Division</td>\n",
       "      <td>6.333333</td>\n",
       "      <td>205.0</td>\n",
       "      <td>79.0</td>\n",
       "      <td>44.0</td>\n",
       "      <td>Kickboxer</td>\n",
       "      <td>2021-11-06</td>\n",
       "    </tr>\n",
       "    <tr>\n",
       "      <th>3</th>\n",
       "      <td>Ilia</td>\n",
       "      <td>Topuria</td>\n",
       "      <td>El  Matador</td>\n",
       "      <td>NaN</td>\n",
       "      <td>Germany</td>\n",
       "      <td>27</td>\n",
       "      <td>16</td>\n",
       "      <td>0</td>\n",
       "      <td>0</td>\n",
       "      <td>100.000000</td>\n",
       "      <td>0.000000</td>\n",
       "      <td>16</td>\n",
       "      <td>Featherweight Division</td>\n",
       "      <td>5.583333</td>\n",
       "      <td>145.0</td>\n",
       "      <td>69.0</td>\n",
       "      <td>37.0</td>\n",
       "      <td>Brazilian Jiu-Jitsu</td>\n",
       "      <td>2020-10-10</td>\n",
       "    </tr>\n",
       "    <tr>\n",
       "      <th>4</th>\n",
       "      <td>Belal</td>\n",
       "      <td>Muhammad</td>\n",
       "      <td>Remember The Name</td>\n",
       "      <td>Chicago</td>\n",
       "      <td>United States</td>\n",
       "      <td>36</td>\n",
       "      <td>24</td>\n",
       "      <td>3</td>\n",
       "      <td>0</td>\n",
       "      <td>88.888889</td>\n",
       "      <td>11.111111</td>\n",
       "      <td>27</td>\n",
       "      <td>Welterweight Division</td>\n",
       "      <td>5.916667</td>\n",
       "      <td>169.0</td>\n",
       "      <td>72.0</td>\n",
       "      <td>40.0</td>\n",
       "      <td>NaN</td>\n",
       "      <td>2016-07-07</td>\n",
       "    </tr>\n",
       "    <tr>\n",
       "      <th>...</th>\n",
       "      <td>...</td>\n",
       "      <td>...</td>\n",
       "      <td>...</td>\n",
       "      <td>...</td>\n",
       "      <td>...</td>\n",
       "      <td>...</td>\n",
       "      <td>...</td>\n",
       "      <td>...</td>\n",
       "      <td>...</td>\n",
       "      <td>...</td>\n",
       "      <td>...</td>\n",
       "      <td>...</td>\n",
       "      <td>...</td>\n",
       "      <td>...</td>\n",
       "      <td>...</td>\n",
       "      <td>...</td>\n",
       "      <td>...</td>\n",
       "      <td>...</td>\n",
       "      <td>...</td>\n",
       "    </tr>\n",
       "    <tr>\n",
       "      <th>162</th>\n",
       "      <td>Yana</td>\n",
       "      <td>Santos</td>\n",
       "      <td>NaN</td>\n",
       "      <td>NaN</td>\n",
       "      <td>Russia</td>\n",
       "      <td>35</td>\n",
       "      <td>15</td>\n",
       "      <td>8</td>\n",
       "      <td>0</td>\n",
       "      <td>65.217391</td>\n",
       "      <td>34.782609</td>\n",
       "      <td>23</td>\n",
       "      <td>Women's Bantamweight Division</td>\n",
       "      <td>5.500000</td>\n",
       "      <td>135.5</td>\n",
       "      <td>68.5</td>\n",
       "      <td>40.0</td>\n",
       "      <td>MMA</td>\n",
       "      <td>2018-03-03</td>\n",
       "    </tr>\n",
       "    <tr>\n",
       "      <th>163</th>\n",
       "      <td>Julia</td>\n",
       "      <td>Avila</td>\n",
       "      <td>Raging Panda</td>\n",
       "      <td>Los Angeles</td>\n",
       "      <td>United States</td>\n",
       "      <td>36</td>\n",
       "      <td>9</td>\n",
       "      <td>3</td>\n",
       "      <td>0</td>\n",
       "      <td>75.000000</td>\n",
       "      <td>25.000000</td>\n",
       "      <td>12</td>\n",
       "      <td>Women's Bantamweight Division</td>\n",
       "      <td>5.583333</td>\n",
       "      <td>135.5</td>\n",
       "      <td>68.0</td>\n",
       "      <td>38.0</td>\n",
       "      <td>NaN</td>\n",
       "      <td>2019-07-06</td>\n",
       "    </tr>\n",
       "    <tr>\n",
       "      <th>164</th>\n",
       "      <td>Ailin</td>\n",
       "      <td>Perez</td>\n",
       "      <td>Fiona</td>\n",
       "      <td>CABA</td>\n",
       "      <td>Argentina</td>\n",
       "      <td>30</td>\n",
       "      <td>11</td>\n",
       "      <td>2</td>\n",
       "      <td>0</td>\n",
       "      <td>84.615385</td>\n",
       "      <td>15.384615</td>\n",
       "      <td>13</td>\n",
       "      <td>Women's Bantamweight Division</td>\n",
       "      <td>5.416667</td>\n",
       "      <td>136.5</td>\n",
       "      <td>66.0</td>\n",
       "      <td>36.0</td>\n",
       "      <td>Kung Fu</td>\n",
       "      <td>2022-09-03</td>\n",
       "    </tr>\n",
       "    <tr>\n",
       "      <th>165</th>\n",
       "      <td>Jacqueline</td>\n",
       "      <td>Cavalcanti</td>\n",
       "      <td>NaN</td>\n",
       "      <td>NaN</td>\n",
       "      <td>Brazil</td>\n",
       "      <td>27</td>\n",
       "      <td>8</td>\n",
       "      <td>1</td>\n",
       "      <td>0</td>\n",
       "      <td>88.888889</td>\n",
       "      <td>11.111111</td>\n",
       "      <td>9</td>\n",
       "      <td>Women's Bantamweight Division</td>\n",
       "      <td>5.666667</td>\n",
       "      <td>135.0</td>\n",
       "      <td>70.0</td>\n",
       "      <td>41.0</td>\n",
       "      <td>Striker</td>\n",
       "      <td>2023-09-02</td>\n",
       "    </tr>\n",
       "    <tr>\n",
       "      <th>166</th>\n",
       "      <td>Chelsea</td>\n",
       "      <td>Chandler</td>\n",
       "      <td>NaN</td>\n",
       "      <td>Stockton</td>\n",
       "      <td>United States</td>\n",
       "      <td>34</td>\n",
       "      <td>6</td>\n",
       "      <td>3</td>\n",
       "      <td>0</td>\n",
       "      <td>66.666667</td>\n",
       "      <td>33.333333</td>\n",
       "      <td>9</td>\n",
       "      <td>Women's Bantamweight Division</td>\n",
       "      <td>5.708333</td>\n",
       "      <td>141.0</td>\n",
       "      <td>68.0</td>\n",
       "      <td>40.0</td>\n",
       "      <td>MMA</td>\n",
       "      <td>2022-10-01</td>\n",
       "    </tr>\n",
       "  </tbody>\n",
       "</table>\n",
       "<p>167 rows × 19 columns</p>\n",
       "</div>"
      ],
      "text/plain": [
       "     first_name   last_name           nickname                   city  \\\n",
       "0         Islam   Makhachev                NaN      Dagestan Republic   \n",
       "1           Jon       Jones              Bones              Rochester   \n",
       "2          Alex     Pereira             Poatan  São Bernardo do Campo   \n",
       "3          Ilia     Topuria        El  Matador                    NaN   \n",
       "4         Belal    Muhammad  Remember The Name                Chicago   \n",
       "..          ...         ...                ...                    ...   \n",
       "162        Yana      Santos                NaN                    NaN   \n",
       "163       Julia       Avila       Raging Panda            Los Angeles   \n",
       "164       Ailin       Perez              Fiona                   CABA   \n",
       "165  Jacqueline  Cavalcanti                NaN                    NaN   \n",
       "166     Chelsea    Chandler                NaN               Stockton   \n",
       "\n",
       "           country  age  wins  losses  draws  win_percent  lose_percent  \\\n",
       "0           Russia   33    26       1      0    96.296296      3.703704   \n",
       "1    United States   37    28       1      0    96.551724      3.448276   \n",
       "2           Brazil   37    12       2      0    85.714286     14.285714   \n",
       "3          Germany   27    16       0      0   100.000000      0.000000   \n",
       "4    United States   36    24       3      0    88.888889     11.111111   \n",
       "..             ...  ...   ...     ...    ...          ...           ...   \n",
       "162         Russia   35    15       8      0    65.217391     34.782609   \n",
       "163  United States   36     9       3      0    75.000000     25.000000   \n",
       "164      Argentina   30    11       2      0    84.615385     15.384615   \n",
       "165         Brazil   27     8       1      0    88.888889     11.111111   \n",
       "166  United States   34     6       3      0    66.666667     33.333333   \n",
       "\n",
       "     num_of_fights                weight_division  height_ft  weight_lbs  \\\n",
       "0               27           Lightweight Division   5.833333       155.0   \n",
       "1               29           Heavyweight Division   6.333333       237.6   \n",
       "2               14     Light Heavyweight Division   6.333333       205.0   \n",
       "3               16         Featherweight Division   5.583333       145.0   \n",
       "4               27          Welterweight Division   5.916667       169.0   \n",
       "..             ...                            ...        ...         ...   \n",
       "162             23  Women's Bantamweight Division   5.500000       135.5   \n",
       "163             12  Women's Bantamweight Division   5.583333       135.5   \n",
       "164             13  Women's Bantamweight Division   5.416667       136.5   \n",
       "165              9  Women's Bantamweight Division   5.666667       135.0   \n",
       "166              9  Women's Bantamweight Division   5.708333       141.0   \n",
       "\n",
       "     arm_reach_inch  leg_reach_inch       fighting_style       debut  \n",
       "0              70.5            40.5                Sambo  2015-05-23  \n",
       "1              84.5            45.0                  NaN  2008-08-09  \n",
       "2              79.0            44.0            Kickboxer  2021-11-06  \n",
       "3              69.0            37.0  Brazilian Jiu-Jitsu  2020-10-10  \n",
       "4              72.0            40.0                  NaN  2016-07-07  \n",
       "..              ...             ...                  ...         ...  \n",
       "162            68.5            40.0                  MMA  2018-03-03  \n",
       "163            68.0            38.0                  NaN  2019-07-06  \n",
       "164            66.0            36.0              Kung Fu  2022-09-03  \n",
       "165            70.0            41.0              Striker  2023-09-02  \n",
       "166            68.0            40.0                  MMA  2022-10-01  \n",
       "\n",
       "[167 rows x 19 columns]"
      ]
     },
     "execution_count": 17,
     "metadata": {},
     "output_type": "execute_result"
    }
   ],
   "source": [
    "fighters_stats"
   ]
  },
  {
   "cell_type": "code",
   "execution_count": 18,
   "id": "3f6f1566-b1ed-47f1-95fd-f3278e57d26f",
   "metadata": {},
   "outputs": [
    {
     "name": "stdout",
     "output_type": "stream",
     "text": [
      "first_name          0\n",
      "last_name           0\n",
      "nickname           48\n",
      "city               28\n",
      "country             0\n",
      "age                 0\n",
      "wins                0\n",
      "losses              0\n",
      "draws               0\n",
      "win_percent         0\n",
      "lose_percent        0\n",
      "num_of_fights       0\n",
      "weight_division     0\n",
      "height_ft           0\n",
      "weight_lbs          0\n",
      "arm_reach_inch      0\n",
      "leg_reach_inch      0\n",
      "fighting_style     16\n",
      "debut               0\n",
      "dtype: int64\n"
     ]
    }
   ],
   "source": [
    "print(fighters_stats.isnull().sum())"
   ]
  },
  {
   "cell_type": "markdown",
   "id": "ad7d2623-4ea5-4447-8a6e-59b54003adb5",
   "metadata": {},
   "source": [
    "Las columnas con valores nulos corresponden al apodo de los luchadores, la ciudad de origen y su estilo de lucha. Dado que estos datos no son esenciales para nuestro análisis exploratorio, podemos prescindir de ellos y eliminar estas columnas."
   ]
  },
  {
   "cell_type": "code",
   "execution_count": 19,
   "id": "a5f90af1-aeac-46d0-87cb-17e383177e37",
   "metadata": {},
   "outputs": [],
   "source": [
    "fighters_stats_clean =fighters_stats.drop(columns=['nickname','fighting_style','city'])"
   ]
  },
  {
   "cell_type": "code",
   "execution_count": 20,
   "id": "f46a8476",
   "metadata": {},
   "outputs": [
    {
     "name": "stdout",
     "output_type": "stream",
     "text": [
      "first_name         0\n",
      "last_name          0\n",
      "country            0\n",
      "age                0\n",
      "wins               0\n",
      "losses             0\n",
      "draws              0\n",
      "win_percent        0\n",
      "lose_percent       0\n",
      "num_of_fights      0\n",
      "weight_division    0\n",
      "height_ft          0\n",
      "weight_lbs         0\n",
      "arm_reach_inch     0\n",
      "leg_reach_inch     0\n",
      "debut              0\n",
      "dtype: int64\n"
     ]
    }
   ],
   "source": [
    "print(fighters_stats_clean.isnull().sum())"
   ]
  },
  {
   "cell_type": "markdown",
   "id": "73c22963",
   "metadata": {},
   "source": [
    "### Analisis de relaciones"
   ]
  },
  {
   "cell_type": "markdown",
   "id": "df9eb457",
   "metadata": {},
   "source": [
    "Una vez ya no tenemos valores nulos, procedemos a la comprobación de datos relacionados en las distintas tablas:"
   ]
  },
  {
   "cell_type": "markdown",
   "id": "cd072637",
   "metadata": {},
   "source": [
    "Como relaciones tendriamos:\n",
    "1) La columna country de ufc_country_data.csv con la columna country de ufc_fighter_stats.csv\n",
    "2) La columna country de ufc_country_data.csv con la columna country de ufc_events_stats.csv"
   ]
  },
  {
   "cell_type": "markdown",
   "id": "79f7431d",
   "metadata": {},
   "source": [
    "Comprobamos que no hayan inconsistencias o diferencias en los nombres de los paises:"
   ]
  },
  {
   "cell_type": "code",
   "execution_count": 21,
   "id": "66bb8303",
   "metadata": {},
   "outputs": [
    {
     "name": "stdout",
     "output_type": "stream",
     "text": [
      "Países en fighters_stats_clean que no están en country_data_clean:\n",
      "['Russia' 'Myanmar (Burma)' 'Iran' 'Kyrgyzstan']\n",
      "Países en country_data_clean que no están en fighters_stats_clean:\n",
      "['Iran, Islamic Rep.' 'Kyrgyz Republic' 'Myanmar' 'Russian Federation'\n",
      " 'United Arab Emirates']\n",
      "Países en events_stats_clean que no están en country_data_clean:\n",
      "['Saudi Arabia' 'Singapore' 'South Korea' 'Russia' 'Denmark' 'Uruguay'\n",
      " 'Czech Republic' 'Chile' 'Netherlands' 'Philippines' 'Croatia'\n",
      " 'Puerto Rico']\n",
      "Países en country_data_clean que no están en events_stats_clean:\n",
      "['Angola' 'Austria' 'Czechia' 'Dominican Republic' 'Ecuador' 'Georgia'\n",
      " 'Iran, Islamic Rep.' 'Iraq' 'Italy' 'Jamaica' 'Kazakhstan'\n",
      " 'Kyrgyz Republic' 'Moldova' 'Myanmar' 'Nigeria' 'Russian Federation'\n",
      " 'South Africa' 'Spain' 'Suriname' 'Switzerland' 'Ukraine' 'Uzbekistan']\n"
     ]
    }
   ],
   "source": [
    "# Verificar qué países en fighters_stats_clean no están en country_data_clean\n",
    "missing_countries_fighters = fighters_stats_clean[~fighters_stats_clean[\"country\"].isin(country_data_clean[\"country\"])]\n",
    "print(\"Países en fighters_stats_clean que no están en country_data_clean:\")\n",
    "print(missing_countries_fighters[\"country\"].unique())\n",
    "\n",
    "missing_countries_country1 = country_data_clean[~country_data_clean[\"country\"].isin(fighters_stats_clean[\"country\"])]\n",
    "print(\"Países en country_data_clean que no están en fighters_stats_clean:\")\n",
    "print(missing_countries_country1[\"country\"].unique())\n",
    "\n",
    "# Verificar qué países en events_stats_clean no están en country_data_clean\n",
    "missing_countries_events = events_stats_clean[~events_stats_clean[\"country\"].isin(country_data_clean[\"country\"])] \n",
    "print(\"Países en events_stats_clean que no están en country_data_clean:\")\n",
    "print(missing_countries_events[\"country\"].unique())\n",
    "\n",
    "missing_countries_country2 = country_data_clean[~country_data_clean[\"country\"].isin(events_stats_clean[\"country\"])]\n",
    "print(\"Países en country_data_clean que no están en events_stats_clean:\")\n",
    "print(missing_countries_country2[\"country\"].unique())\n"
   ]
  },
  {
   "cell_type": "markdown",
   "id": "88ef7a29",
   "metadata": {},
   "source": [
    "Observamos, que hay varios paises que son los mismos pero estan expresados con un nombre distinto en cada dataframe, por lo tanto usamos diccionarios para corregir estos errores:"
   ]
  },
  {
   "cell_type": "code",
   "execution_count": 22,
   "id": "e335d534",
   "metadata": {},
   "outputs": [
    {
     "name": "stdout",
     "output_type": "stream",
     "text": [
      "\n",
      "Países en fighters_stats_clean que no están en country_data_clean:\n",
      "[]\n",
      "\n",
      "Países en country_data_clean que no están en fighters_stats_clean:\n",
      "['United Arab Emirates']\n",
      "\n",
      "Países en events_stats_clean que no están en country_data_clean:\n",
      "['Saudi Arabia' 'Singapore' 'Korea, Rep.' 'Denmark' 'Uruguay' 'Chile'\n",
      " 'Netherlands' 'Philippines' 'Croatia' 'Puerto Rico']\n",
      "\n",
      "Países en country_data_clean que no están en events_stats_clean:\n",
      "['Angola' 'Austria' 'Dominican Republic' 'Ecuador' 'Georgia'\n",
      " 'Iran, Islamic Rep.' 'Iraq' 'Italy' 'Jamaica' 'Kazakhstan'\n",
      " 'Kyrgyz Republic' 'Moldova' 'Myanmar' 'Nigeria' 'South Africa' 'Spain'\n",
      " 'Suriname' 'Switzerland' 'Ukraine' 'Uzbekistan']\n"
     ]
    }
   ],
   "source": [
    "# Diccionario de corrección inicial de nombres de países\n",
    "initial_country_corrections = {\n",
    "    \"Russia\": \"Russian Federation\",\n",
    "    \"Myanmar (Burma)\": \"Myanmar\",\n",
    "    \"Iran\": \"Iran, Islamic Rep.\",\n",
    "    \"Kyrgyzstan\": \"Kyrgyz Republic\",\n",
    "    \"Czech Republic\": \"Czechia\",\n",
    "    \"South Korea\": \"Korea, Rep.\",\n",
    "    \"United States\": \"United States of America\",\n",
    "    \"UAE\": \"United Arab Emirates\",\n",
    "    \"UK\": \"United Kingdom\"\n",
    "}\n",
    "\n",
    "# Diccionario de corrección final de nombres de países\n",
    "final_country_corrections = {\n",
    "    \"United States of America\": \"United States\",\n",
    "    \"UAE\": \"United Arab Emirates\"\n",
    "}\n",
    "\n",
    "# Aplicar correcciones iniciales\n",
    "for df in [fighters_stats_clean, events_stats_clean]:\n",
    "    df[\"country\"] = df[\"country\"].replace(initial_country_corrections)\n",
    "\n",
    "# Aplicar correcciones finales\n",
    "for df in [fighters_stats_clean, events_stats_clean, country_data_clean]:\n",
    "    df[\"country\"] = df[\"country\"].replace(final_country_corrections)\n",
    "\n",
    "# Verificación de coherencia en los datos\n",
    "def check_missing_countries(source_df, reference_df, source_name, reference_name):\n",
    "    missing_countries = source_df[~source_df[\"country\"].isin(reference_df[\"country\"])][\"country\"].unique()\n",
    "    print(f\"\\nPaíses en {source_name} que no están en {reference_name}:\")\n",
    "    print(missing_countries)\n",
    "\n",
    "check_missing_countries(fighters_stats_clean, country_data_clean, \"fighters_stats_clean\", \"country_data_clean\")\n",
    "check_missing_countries(country_data_clean, fighters_stats_clean, \"country_data_clean\", \"fighters_stats_clean\")\n",
    "check_missing_countries(events_stats_clean, country_data_clean, \"events_stats_clean\", \"country_data_clean\")\n",
    "check_missing_countries(country_data_clean, events_stats_clean, \"country_data_clean\", \"events_stats_clean\")\n",
    "\n"
   ]
  },
  {
   "cell_type": "markdown",
   "id": "57850e2c",
   "metadata": {},
   "source": [
    "Podemos observar que ya todos los luchadores estarian relacionados con su pais de origen, sin embargo, algunos eventos se han realizado en paises que no estan en el dataframe de country_data_clean y por lo tanto, decidimos prescindir (eliminar) dichos eventos para asi poder tener relaciones completas."
   ]
  },
  {
   "cell_type": "code",
   "execution_count": 23,
   "id": "fe9be13d",
   "metadata": {},
   "outputs": [
    {
     "name": "stdout",
     "output_type": "stream",
     "text": [
      "Filas después de eliminar los eventos en países no registrados: 725\n",
      "Filas después de eliminar los eventos en países no registrados: 707\n"
     ]
    }
   ],
   "source": [
    "print(f\"Filas después de eliminar los eventos en países no registrados: {events_stats_clean.shape[0]}\")\n",
    "# Filtrar los eventos que están en países registrados en country_data_clean\n",
    "events_stats_clean = events_stats_clean[events_stats_clean[\"country\"].isin(country_data_clean[\"country\"])]\n",
    "\n",
    "# Verificar el tamaño después de la eliminación\n",
    "print(f\"Filas después de eliminar los eventos en países no registrados: {events_stats_clean.shape[0]}\")"
   ]
  },
  {
   "cell_type": "code",
   "execution_count": 24,
   "id": "e7d9e233",
   "metadata": {},
   "outputs": [
    {
     "name": "stdout",
     "output_type": "stream",
     "text": [
      "\n",
      "Países en events_stats_clean que no están en country_data_clean:\n",
      "[]\n"
     ]
    }
   ],
   "source": [
    "missing_countries_events = events_stats_clean[~events_stats_clean[\"country\"].isin(country_data_clean[\"country\"])]\n",
    "print(\"\\nPaíses en events_stats_clean que no están en country_data_clean:\")\n",
    "print(missing_countries_events[\"country\"].unique())"
   ]
  },
  {
   "cell_type": "markdown",
   "id": "4ac7c74e",
   "metadata": {},
   "source": [
    "Ahora despues de toda la limpieza y cambios aplicados al dataset, los dataframes quedarian asi:"
   ]
  },
  {
   "cell_type": "code",
   "execution_count": 25,
   "id": "f4944008",
   "metadata": {},
   "outputs": [
    {
     "data": {
      "text/html": [
       "<div>\n",
       "<style scoped>\n",
       "    .dataframe tbody tr th:only-of-type {\n",
       "        vertical-align: middle;\n",
       "    }\n",
       "\n",
       "    .dataframe tbody tr th {\n",
       "        vertical-align: top;\n",
       "    }\n",
       "\n",
       "    .dataframe thead th {\n",
       "        text-align: right;\n",
       "    }\n",
       "</style>\n",
       "<table border=\"1\" class=\"dataframe\">\n",
       "  <thead>\n",
       "    <tr style=\"text-align: right;\">\n",
       "      <th></th>\n",
       "      <th>country</th>\n",
       "      <th>country_code</th>\n",
       "      <th>gdp_2023_billion_usd</th>\n",
       "      <th>total_population</th>\n",
       "      <th>female_pop_total_percent</th>\n",
       "      <th>male_pop_total_percent</th>\n",
       "      <th>population_growth_2023</th>\n",
       "      <th>working_age_pop_percent</th>\n",
       "      <th>dependency_ratio_2023</th>\n",
       "    </tr>\n",
       "  </thead>\n",
       "  <tbody>\n",
       "    <tr>\n",
       "      <th>0</th>\n",
       "      <td>Angola</td>\n",
       "      <td>AGO</td>\n",
       "      <td>84.824654</td>\n",
       "      <td>36749906</td>\n",
       "      <td>50.525887</td>\n",
       "      <td>49.474113</td>\n",
       "      <td>3.080655</td>\n",
       "      <td>52.616286</td>\n",
       "      <td>90.055225</td>\n",
       "    </tr>\n",
       "    <tr>\n",
       "      <th>1</th>\n",
       "      <td>Argentina</td>\n",
       "      <td>ARG</td>\n",
       "      <td>646.075278</td>\n",
       "      <td>45538401</td>\n",
       "      <td>50.378178</td>\n",
       "      <td>49.621822</td>\n",
       "      <td>0.286976</td>\n",
       "      <td>65.606321</td>\n",
       "      <td>52.424337</td>\n",
       "    </tr>\n",
       "    <tr>\n",
       "      <th>2</th>\n",
       "      <td>Australia</td>\n",
       "      <td>AUS</td>\n",
       "      <td>1728.057317</td>\n",
       "      <td>26658948</td>\n",
       "      <td>50.385263</td>\n",
       "      <td>49.614737</td>\n",
       "      <td>2.447466</td>\n",
       "      <td>64.585692</td>\n",
       "      <td>54.833055</td>\n",
       "    </tr>\n",
       "    <tr>\n",
       "      <th>3</th>\n",
       "      <td>Austria</td>\n",
       "      <td>AUT</td>\n",
       "      <td>511.685204</td>\n",
       "      <td>9131761</td>\n",
       "      <td>50.779585</td>\n",
       "      <td>49.220415</td>\n",
       "      <td>0.989465</td>\n",
       "      <td>65.533345</td>\n",
       "      <td>52.594084</td>\n",
       "    </tr>\n",
       "    <tr>\n",
       "      <th>4</th>\n",
       "      <td>Brazil</td>\n",
       "      <td>BRA</td>\n",
       "      <td>2173.665656</td>\n",
       "      <td>211140729</td>\n",
       "      <td>50.784928</td>\n",
       "      <td>49.215072</td>\n",
       "      <td>0.395929</td>\n",
       "      <td>69.430416</td>\n",
       "      <td>44.029095</td>\n",
       "    </tr>\n",
       "  </tbody>\n",
       "</table>\n",
       "</div>"
      ],
      "text/plain": [
       "     country country_code  gdp_2023_billion_usd  total_population  \\\n",
       "0     Angola          AGO             84.824654          36749906   \n",
       "1  Argentina          ARG            646.075278          45538401   \n",
       "2  Australia          AUS           1728.057317          26658948   \n",
       "3    Austria          AUT            511.685204           9131761   \n",
       "4     Brazil          BRA           2173.665656         211140729   \n",
       "\n",
       "   female_pop_total_percent  male_pop_total_percent  population_growth_2023  \\\n",
       "0                 50.525887               49.474113                3.080655   \n",
       "1                 50.378178               49.621822                0.286976   \n",
       "2                 50.385263               49.614737                2.447466   \n",
       "3                 50.779585               49.220415                0.989465   \n",
       "4                 50.784928               49.215072                0.395929   \n",
       "\n",
       "   working_age_pop_percent  dependency_ratio_2023  \n",
       "0                52.616286              90.055225  \n",
       "1                65.606321              52.424337  \n",
       "2                64.585692              54.833055  \n",
       "3                65.533345              52.594084  \n",
       "4                69.430416              44.029095  "
      ]
     },
     "execution_count": 25,
     "metadata": {},
     "output_type": "execute_result"
    }
   ],
   "source": [
    "country_data_clean.head()"
   ]
  },
  {
   "cell_type": "code",
   "execution_count": 26,
   "id": "35978ea2",
   "metadata": {},
   "outputs": [
    {
     "data": {
      "text/html": [
       "<div>\n",
       "<style scoped>\n",
       "    .dataframe tbody tr th:only-of-type {\n",
       "        vertical-align: middle;\n",
       "    }\n",
       "\n",
       "    .dataframe tbody tr th {\n",
       "        vertical-align: top;\n",
       "    }\n",
       "\n",
       "    .dataframe thead th {\n",
       "        text-align: right;\n",
       "    }\n",
       "</style>\n",
       "<table border=\"1\" class=\"dataframe\">\n",
       "  <thead>\n",
       "    <tr style=\"text-align: right;\">\n",
       "      <th></th>\n",
       "      <th>first_name</th>\n",
       "      <th>last_name</th>\n",
       "      <th>country</th>\n",
       "      <th>age</th>\n",
       "      <th>wins</th>\n",
       "      <th>losses</th>\n",
       "      <th>draws</th>\n",
       "      <th>win_percent</th>\n",
       "      <th>lose_percent</th>\n",
       "      <th>num_of_fights</th>\n",
       "      <th>weight_division</th>\n",
       "      <th>height_ft</th>\n",
       "      <th>weight_lbs</th>\n",
       "      <th>arm_reach_inch</th>\n",
       "      <th>leg_reach_inch</th>\n",
       "      <th>debut</th>\n",
       "    </tr>\n",
       "  </thead>\n",
       "  <tbody>\n",
       "    <tr>\n",
       "      <th>0</th>\n",
       "      <td>Islam</td>\n",
       "      <td>Makhachev</td>\n",
       "      <td>Russian Federation</td>\n",
       "      <td>33</td>\n",
       "      <td>26</td>\n",
       "      <td>1</td>\n",
       "      <td>0</td>\n",
       "      <td>96.296296</td>\n",
       "      <td>3.703704</td>\n",
       "      <td>27</td>\n",
       "      <td>Lightweight Division</td>\n",
       "      <td>5.833333</td>\n",
       "      <td>155.0</td>\n",
       "      <td>70.5</td>\n",
       "      <td>40.5</td>\n",
       "      <td>2015-05-23</td>\n",
       "    </tr>\n",
       "    <tr>\n",
       "      <th>1</th>\n",
       "      <td>Jon</td>\n",
       "      <td>Jones</td>\n",
       "      <td>United States</td>\n",
       "      <td>37</td>\n",
       "      <td>28</td>\n",
       "      <td>1</td>\n",
       "      <td>0</td>\n",
       "      <td>96.551724</td>\n",
       "      <td>3.448276</td>\n",
       "      <td>29</td>\n",
       "      <td>Heavyweight Division</td>\n",
       "      <td>6.333333</td>\n",
       "      <td>237.6</td>\n",
       "      <td>84.5</td>\n",
       "      <td>45.0</td>\n",
       "      <td>2008-08-09</td>\n",
       "    </tr>\n",
       "    <tr>\n",
       "      <th>2</th>\n",
       "      <td>Alex</td>\n",
       "      <td>Pereira</td>\n",
       "      <td>Brazil</td>\n",
       "      <td>37</td>\n",
       "      <td>12</td>\n",
       "      <td>2</td>\n",
       "      <td>0</td>\n",
       "      <td>85.714286</td>\n",
       "      <td>14.285714</td>\n",
       "      <td>14</td>\n",
       "      <td>Light Heavyweight Division</td>\n",
       "      <td>6.333333</td>\n",
       "      <td>205.0</td>\n",
       "      <td>79.0</td>\n",
       "      <td>44.0</td>\n",
       "      <td>2021-11-06</td>\n",
       "    </tr>\n",
       "    <tr>\n",
       "      <th>3</th>\n",
       "      <td>Ilia</td>\n",
       "      <td>Topuria</td>\n",
       "      <td>Germany</td>\n",
       "      <td>27</td>\n",
       "      <td>16</td>\n",
       "      <td>0</td>\n",
       "      <td>0</td>\n",
       "      <td>100.000000</td>\n",
       "      <td>0.000000</td>\n",
       "      <td>16</td>\n",
       "      <td>Featherweight Division</td>\n",
       "      <td>5.583333</td>\n",
       "      <td>145.0</td>\n",
       "      <td>69.0</td>\n",
       "      <td>37.0</td>\n",
       "      <td>2020-10-10</td>\n",
       "    </tr>\n",
       "    <tr>\n",
       "      <th>4</th>\n",
       "      <td>Belal</td>\n",
       "      <td>Muhammad</td>\n",
       "      <td>United States</td>\n",
       "      <td>36</td>\n",
       "      <td>24</td>\n",
       "      <td>3</td>\n",
       "      <td>0</td>\n",
       "      <td>88.888889</td>\n",
       "      <td>11.111111</td>\n",
       "      <td>27</td>\n",
       "      <td>Welterweight Division</td>\n",
       "      <td>5.916667</td>\n",
       "      <td>169.0</td>\n",
       "      <td>72.0</td>\n",
       "      <td>40.0</td>\n",
       "      <td>2016-07-07</td>\n",
       "    </tr>\n",
       "  </tbody>\n",
       "</table>\n",
       "</div>"
      ],
      "text/plain": [
       "  first_name  last_name             country  age  wins  losses  draws  \\\n",
       "0      Islam  Makhachev  Russian Federation   33    26       1      0   \n",
       "1        Jon      Jones       United States   37    28       1      0   \n",
       "2       Alex    Pereira              Brazil   37    12       2      0   \n",
       "3       Ilia    Topuria             Germany   27    16       0      0   \n",
       "4      Belal   Muhammad       United States   36    24       3      0   \n",
       "\n",
       "   win_percent  lose_percent  num_of_fights             weight_division  \\\n",
       "0    96.296296      3.703704             27        Lightweight Division   \n",
       "1    96.551724      3.448276             29        Heavyweight Division   \n",
       "2    85.714286     14.285714             14  Light Heavyweight Division   \n",
       "3   100.000000      0.000000             16      Featherweight Division   \n",
       "4    88.888889     11.111111             27       Welterweight Division   \n",
       "\n",
       "   height_ft  weight_lbs  arm_reach_inch  leg_reach_inch       debut  \n",
       "0   5.833333       155.0            70.5            40.5  2015-05-23  \n",
       "1   6.333333       237.6            84.5            45.0  2008-08-09  \n",
       "2   6.333333       205.0            79.0            44.0  2021-11-06  \n",
       "3   5.583333       145.0            69.0            37.0  2020-10-10  \n",
       "4   5.916667       169.0            72.0            40.0  2016-07-07  "
      ]
     },
     "execution_count": 26,
     "metadata": {},
     "output_type": "execute_result"
    }
   ],
   "source": [
    "fighters_stats_clean.head()"
   ]
  },
  {
   "cell_type": "code",
   "execution_count": 27,
   "id": "0b00968c",
   "metadata": {},
   "outputs": [
    {
     "data": {
      "text/html": [
       "<div>\n",
       "<style scoped>\n",
       "    .dataframe tbody tr th:only-of-type {\n",
       "        vertical-align: middle;\n",
       "    }\n",
       "\n",
       "    .dataframe tbody tr th {\n",
       "        vertical-align: top;\n",
       "    }\n",
       "\n",
       "    .dataframe thead th {\n",
       "        text-align: right;\n",
       "    }\n",
       "</style>\n",
       "<table border=\"1\" class=\"dataframe\">\n",
       "  <thead>\n",
       "    <tr style=\"text-align: right;\">\n",
       "      <th></th>\n",
       "      <th>event_category</th>\n",
       "      <th>date</th>\n",
       "      <th>venue</th>\n",
       "      <th>city</th>\n",
       "      <th>country</th>\n",
       "      <th>attendance</th>\n",
       "    </tr>\n",
       "  </thead>\n",
       "  <tbody>\n",
       "    <tr>\n",
       "      <th>0</th>\n",
       "      <td>UFC on ESPN</td>\n",
       "      <td>Dec 14, 2024</td>\n",
       "      <td>Amalie Arena</td>\n",
       "      <td>Tampa</td>\n",
       "      <td>United States</td>\n",
       "      <td>18625.000000</td>\n",
       "    </tr>\n",
       "    <tr>\n",
       "      <th>1</th>\n",
       "      <td>UFC 310</td>\n",
       "      <td>Dec 7, 2024</td>\n",
       "      <td>T-Mobile Arena</td>\n",
       "      <td>Las Vegas</td>\n",
       "      <td>United States</td>\n",
       "      <td>18648.000000</td>\n",
       "    </tr>\n",
       "    <tr>\n",
       "      <th>2</th>\n",
       "      <td>UFC Fight Night</td>\n",
       "      <td>Nov 23, 2024</td>\n",
       "      <td>Galaxy Arena</td>\n",
       "      <td>Macau</td>\n",
       "      <td>China</td>\n",
       "      <td>12615.000000</td>\n",
       "    </tr>\n",
       "    <tr>\n",
       "      <th>3</th>\n",
       "      <td>UFC 309</td>\n",
       "      <td>Nov 16, 2024</td>\n",
       "      <td>Madison Square Garden</td>\n",
       "      <td>New York City</td>\n",
       "      <td>United States</td>\n",
       "      <td>20200.000000</td>\n",
       "    </tr>\n",
       "    <tr>\n",
       "      <th>4</th>\n",
       "      <td>UFC Fight Night</td>\n",
       "      <td>Nov 9, 2024</td>\n",
       "      <td>UFC Apex</td>\n",
       "      <td>Las Vegas</td>\n",
       "      <td>United States</td>\n",
       "      <td>10898.193237</td>\n",
       "    </tr>\n",
       "  </tbody>\n",
       "</table>\n",
       "</div>"
      ],
      "text/plain": [
       "    event_category          date                  venue           city  \\\n",
       "0      UFC on ESPN  Dec 14, 2024           Amalie Arena          Tampa   \n",
       "1          UFC 310   Dec 7, 2024         T-Mobile Arena      Las Vegas   \n",
       "2  UFC Fight Night  Nov 23, 2024           Galaxy Arena          Macau   \n",
       "3          UFC 309  Nov 16, 2024  Madison Square Garden  New York City   \n",
       "4  UFC Fight Night   Nov 9, 2024               UFC Apex      Las Vegas   \n",
       "\n",
       "         country    attendance  \n",
       "0  United States  18625.000000  \n",
       "1  United States  18648.000000  \n",
       "2          China  12615.000000  \n",
       "3  United States  20200.000000  \n",
       "4  United States  10898.193237  "
      ]
     },
     "execution_count": 27,
     "metadata": {},
     "output_type": "execute_result"
    }
   ],
   "source": [
    "events_stats_clean.head()"
   ]
  },
  {
   "cell_type": "markdown",
   "id": "7702999e",
   "metadata": {},
   "source": [
    "### Creacion de tablas"
   ]
  },
  {
   "cell_type": "markdown",
   "id": "2b7e0482",
   "metadata": {},
   "source": [
    "En primer lugar, procederemos a ver cada tipo de datos de las distintas tablas para posteriormente poder definirlas:"
   ]
  },
  {
   "cell_type": "markdown",
   "id": "c405821a",
   "metadata": {},
   "source": [
    "TABLA COUNTRY_DATA:"
   ]
  },
  {
   "cell_type": "code",
   "execution_count": 28,
   "id": "d585cebc",
   "metadata": {},
   "outputs": [
    {
     "name": "stdout",
     "output_type": "stream",
     "text": [
      "<class 'pandas.core.frame.DataFrame'>\n",
      "RangeIndex: 38 entries, 0 to 37\n",
      "Data columns (total 9 columns):\n",
      " #   Column                    Non-Null Count  Dtype  \n",
      "---  ------                    --------------  -----  \n",
      " 0   country                   38 non-null     object \n",
      " 1   country_code              38 non-null     object \n",
      " 2   gdp_2023_billion_usd      38 non-null     float64\n",
      " 3   total_population          38 non-null     int64  \n",
      " 4   female_pop_total_percent  38 non-null     float64\n",
      " 5   male_pop_total_percent    38 non-null     float64\n",
      " 6   population_growth_2023    38 non-null     float64\n",
      " 7   working_age_pop_percent   38 non-null     float64\n",
      " 8   dependency_ratio_2023     38 non-null     float64\n",
      "dtypes: float64(6), int64(1), object(2)\n",
      "memory usage: 2.8+ KB\n"
     ]
    }
   ],
   "source": [
    "country_data_clean.info()"
   ]
  },
  {
   "cell_type": "markdown",
   "id": "28764020",
   "metadata": {},
   "source": [
    "TABLA FIGHTERS_STATS"
   ]
  },
  {
   "cell_type": "code",
   "execution_count": 29,
   "id": "bd0adce7",
   "metadata": {},
   "outputs": [
    {
     "name": "stdout",
     "output_type": "stream",
     "text": [
      "<class 'pandas.core.frame.DataFrame'>\n",
      "RangeIndex: 167 entries, 0 to 166\n",
      "Data columns (total 16 columns):\n",
      " #   Column           Non-Null Count  Dtype  \n",
      "---  ------           --------------  -----  \n",
      " 0   first_name       167 non-null    object \n",
      " 1   last_name        167 non-null    object \n",
      " 2   country          167 non-null    object \n",
      " 3   age              167 non-null    int64  \n",
      " 4   wins             167 non-null    int64  \n",
      " 5   losses           167 non-null    int64  \n",
      " 6   draws            167 non-null    int64  \n",
      " 7   win_percent      167 non-null    float64\n",
      " 8   lose_percent     167 non-null    float64\n",
      " 9   num_of_fights    167 non-null    int64  \n",
      " 10  weight_division  167 non-null    object \n",
      " 11  height_ft        167 non-null    float64\n",
      " 12  weight_lbs       167 non-null    float64\n",
      " 13  arm_reach_inch   167 non-null    float64\n",
      " 14  leg_reach_inch   167 non-null    float64\n",
      " 15  debut            167 non-null    object \n",
      "dtypes: float64(6), int64(5), object(5)\n",
      "memory usage: 21.0+ KB\n"
     ]
    }
   ],
   "source": [
    "fighters_stats_clean.info()"
   ]
  },
  {
   "cell_type": "markdown",
   "id": "ffc53cde",
   "metadata": {},
   "source": [
    "TABLA EVENTS_STATS"
   ]
  },
  {
   "cell_type": "code",
   "execution_count": 30,
   "id": "e9e1a6c6",
   "metadata": {},
   "outputs": [
    {
     "name": "stdout",
     "output_type": "stream",
     "text": [
      "<class 'pandas.core.frame.DataFrame'>\n",
      "Index: 707 entries, 0 to 724\n",
      "Data columns (total 6 columns):\n",
      " #   Column          Non-Null Count  Dtype  \n",
      "---  ------          --------------  -----  \n",
      " 0   event_category  707 non-null    object \n",
      " 1   date            707 non-null    object \n",
      " 2   venue           707 non-null    object \n",
      " 3   city            707 non-null    object \n",
      " 4   country         707 non-null    object \n",
      " 5   attendance      707 non-null    float64\n",
      "dtypes: float64(1), object(5)\n",
      "memory usage: 38.7+ KB\n"
     ]
    }
   ],
   "source": [
    "events_stats_clean.info()"
   ]
  },
  {
   "cell_type": "markdown",
   "id": "699a7c43",
   "metadata": {},
   "source": [
    "Ahora procedemos a conectarnos a la base de datos EE1 con la libreria SQLalchemy"
   ]
  },
  {
   "cell_type": "code",
   "execution_count": 31,
   "id": "45256ace",
   "metadata": {},
   "outputs": [
    {
     "name": "stdout",
     "output_type": "stream",
     "text": [
      "Conexión a la base de datos exitosa 🎉\n"
     ]
    }
   ],
   "source": [
    "# Parámetros de conexión\n",
    "DB_USER = \"alvaro\"\n",
    "DB_PASSWORD = \"alvaro123\"\n",
    "DB_HOST = \"mariadb\"  # Nombre del servicio en docker-compose\n",
    "DB_PORT = \"3306\"\n",
    "DB_NAME = \"EE1\"\n",
    "\n",
    "# Crear la cadena de conexión con SQLAlchemy\n",
    "engine = create_engine(f\"mysql+pymysql://{DB_USER}:{DB_PASSWORD}@{DB_HOST}:{DB_PORT}/{DB_NAME}\")\n",
    "\n",
    "# Verificar conexión\n",
    "try:\n",
    "    with engine.connect() as connection:\n",
    "        print(\"Conexión a la base de datos exitosa 🎉\")\n",
    "except Exception as e:\n",
    "    print(\"Error de conexión:\", e)"
   ]
  },
  {
   "cell_type": "markdown",
   "id": "9053b295",
   "metadata": {},
   "source": [
    "Posteriormente definimos las tablas con sus respectivas claves primarias y foraneas y luego una vez realizada la correcta creacion de tablas cargaremos los datos en ellas."
   ]
  },
  {
   "cell_type": "code",
   "execution_count": 32,
   "id": "b203ee67",
   "metadata": {},
   "outputs": [
    {
     "name": "stdout",
     "output_type": "stream",
     "text": [
      "Tablas creadas e insertadas con éxito en MariaDB \n"
     ]
    }
   ],
   "source": [
    "# Base declarativa para definir modelos\n",
    "Base = declarative_base()\n",
    "\n",
    "# Definir la tabla country_data\n",
    "class CountryData(Base):\n",
    "    __tablename__ = \"country_data\"\n",
    "\n",
    "    country = Column(String(255), primary_key=True)\n",
    "    country_code = Column(String(10), nullable=False)\n",
    "    gdp_2023_billion_usd = Column(Float, nullable=False)\n",
    "    total_population = Column(Integer, nullable=False)\n",
    "    female_pop_total_percent = Column(Float, nullable=False)\n",
    "    male_pop_total_percent = Column(Float, nullable=False)\n",
    "    population_growth_2023 = Column(Float, nullable=False)\n",
    "    working_age_pop_percent = Column(Float, nullable=False)\n",
    "    dependency_ratio_2023 = Column(Float, nullable=False)\n",
    "\n",
    "# Definir la tabla fighters_stats con clave foránea a country_data\n",
    "class FighterStats(Base):\n",
    "    __tablename__ = \"fighters_stats\"\n",
    "\n",
    "    id = Column(Integer, primary_key=True, autoincrement=True)  # ID como clave primaria\n",
    "    first_name = Column(String(255), nullable=False)\n",
    "    last_name = Column(String(255), nullable=False)\n",
    "    country = Column(String(255), ForeignKey(\"country_data.country\"), nullable=False)\n",
    "    age = Column(Integer, nullable=False)\n",
    "    wins = Column(Integer, nullable=False)\n",
    "    losses = Column(Integer, nullable=False)\n",
    "    draws = Column(Integer, nullable=False)\n",
    "    win_percent = Column(Float, nullable=False)\n",
    "    lose_percent = Column(Float, nullable=False)\n",
    "    num_of_fights = Column(Integer, nullable=False)\n",
    "    weight_division = Column(String(50), nullable=False)\n",
    "    height_ft = Column(Float, nullable=False)\n",
    "    weight_lbs = Column(Float, nullable=False)\n",
    "    arm_reach_inch = Column(Float, nullable=False)\n",
    "    leg_reach_inch = Column(Float, nullable=False)\n",
    "    debut = Column(Date, nullable=False)\n",
    "\n",
    "# Definir la tabla events_stats con clave foránea a country_data\n",
    "class EventStats(Base):\n",
    "    __tablename__ = \"events_stats\"\n",
    "\n",
    "    id = Column(Integer, primary_key=True, autoincrement=True)  # ID como clave primaria\n",
    "    event_category = Column(String(255), nullable=False)\n",
    "    date = Column(String(255), nullable=False)\n",
    "    venue = Column(String(255), nullable=False)\n",
    "    city = Column(String(255), nullable=False)\n",
    "    country = Column(String(255), ForeignKey(\"country_data.country\"), nullable=False)\n",
    "    attendance = Column(Float, nullable=False)\n",
    "\n",
    "# Crear las tablas en la base de datos\n",
    "Base.metadata.create_all(engine)\n",
    "\n",
    "# Crear una sesión para interactuar con la base de datos\n",
    "Session = sessionmaker(bind=engine)\n",
    "session = Session()\n",
    "\n",
    "# Cargar datos desde DataFrames (asumiendo que tienes los DataFrames ya preparados)\n",
    "country_data_clean.to_sql(name=\"country_data\", con=engine, index=False, if_exists='append')\n",
    "fighters_stats_clean.to_sql(name=\"fighters_stats\", con=engine, index=False, if_exists='append')\n",
    "events_stats_clean.to_sql(name=\"events_stats\", con=engine, index=False, if_exists='append')\n",
    "print(\"Tablas creadas e insertadas con éxito en MariaDB \")\n",
    "\n",
    "# Cerrar sesión\n",
    "session.close()\n"
   ]
  },
  {
   "cell_type": "markdown",
   "id": "cca18083",
   "metadata": {},
   "source": [
    "Ahora hacemos una comprobacion de si funcionan nuestras relaciones en las tablas con 'country'"
   ]
  },
  {
   "cell_type": "markdown",
   "id": "5d6b95db",
   "metadata": {},
   "source": [
    "Para ello vemos los habitantes que tiene el pais del cual procedo el luchador que se apellida \"Jones\" "
   ]
  },
  {
   "cell_type": "code",
   "execution_count": 33,
   "id": "8420b051",
   "metadata": {},
   "outputs": [
    {
     "name": "stdout",
     "output_type": "stream",
     "text": [
      "334914895\n"
     ]
    }
   ],
   "source": [
    "query = text(\"\"\"\n",
    "    SELECT c.total_population\n",
    "    FROM country_data c\n",
    "    JOIN fighters_stats f ON f.country = c.country\n",
    "    WHERE f.last_name = 'Jones';\n",
    "\"\"\")\n",
    "\n",
    "# Ejecutar la consulta\n",
    "result = session.execute(query)\n",
    "\n",
    "# Mostrar el resultado\n",
    "for row in result:\n",
    "    print(row.total_population)\n",
    "\n"
   ]
  },
  {
   "cell_type": "markdown",
   "id": "891a3cb9",
   "metadata": {},
   "source": [
    "Sabemos que el luchador sobre el que se trata es Jon Jones el cual es de Estados Unidos:"
   ]
  },
  {
   "cell_type": "code",
   "execution_count": 34,
   "id": "1ad40e42",
   "metadata": {},
   "outputs": [
    {
     "name": "stdout",
     "output_type": "stream",
     "text": [
      "334914895\n"
     ]
    }
   ],
   "source": [
    "query = text(\"\"\"\n",
    "    SELECT total_population\n",
    "    FROM country_data\n",
    "    WHERE country = 'United States';\n",
    "\"\"\")\n",
    "result = session.execute(query)\n",
    "\n",
    "for row in result:\n",
    "    print(row.total_population)"
   ]
  },
  {
   "cell_type": "markdown",
   "id": "669fc5da",
   "metadata": {},
   "source": [
    "Y por lo tanto podemos concluir que la carga de datos y las relaciones entre tablas se ha producido de forma correcta."
   ]
  },
  {
   "cell_type": "markdown",
   "id": "0ca6acfa",
   "metadata": {},
   "source": [
    "## Analisis exploratorio de datos EDA"
   ]
  },
  {
   "cell_type": "markdown",
   "id": "780e8bab",
   "metadata": {},
   "source": [
    "Procedemos ahora a la exploracion de nuestros datos, aunque ya hemos tratado bastante en laa limpieza y creacion de tablas los tipos datos con los que trabajamos, no hemos analizado su distribucion."
   ]
  },
  {
   "cell_type": "markdown",
   "id": "6b94145d",
   "metadata": {},
   "source": [
    "### Conexion a la base de datos"
   ]
  },
  {
   "cell_type": "code",
   "execution_count": 35,
   "id": "8fdc7ef1-8057-4219-a407-be92ade913be",
   "metadata": {},
   "outputs": [
    {
     "name": "stdout",
     "output_type": "stream",
     "text": [
      "Conexión a la base de datos exitosa 🎉\n"
     ]
    }
   ],
   "source": [
    "# Parámetros de conexión\n",
    "DB_USER = \"alvaro\"\n",
    "DB_PASSWORD = \"alvaro123\"\n",
    "DB_HOST = \"mariadb\"  # Nombre del servicio en docker-compose\n",
    "DB_PORT = \"3306\"\n",
    "DB_NAME = \"EE1\"\n",
    "\n",
    "# Crear la cadena de conexión con SQLAlchemy\n",
    "engine = create_engine(f\"mysql+pymysql://{DB_USER}:{DB_PASSWORD}@{DB_HOST}:{DB_PORT}/{DB_NAME}\")\n",
    "\n",
    "# Verificar conexión\n",
    "try:\n",
    "    with engine.connect() as connection:\n",
    "        print(\"Conexión a la base de datos exitosa 🎉\")\n",
    "except Exception as e:\n",
    "    print(\"Error de conexión:\", e)"
   ]
  },
  {
   "cell_type": "code",
   "execution_count": 36,
   "id": "b93a4142-34ea-4760-be8f-fdd128e3a3df",
   "metadata": {},
   "outputs": [],
   "source": [
    "# Crear una sesión para interactuar con la base de datos\n",
    "Session = sessionmaker(bind=engine)\n",
    "session = Session()"
   ]
  },
  {
   "cell_type": "markdown",
   "id": "4ddc4466",
   "metadata": {},
   "source": [
    "### EDA univariante no grafico"
   ]
  },
  {
   "cell_type": "code",
   "execution_count": 37,
   "id": "2566d479",
   "metadata": {},
   "outputs": [],
   "source": [
    "# (Cambiamos el formato en el que se representan los datos numericos para poder entenderlo mejor)\n",
    "pd.options.display.float_format = '{:.2f}'.format"
   ]
  },
  {
   "cell_type": "markdown",
   "id": "feca6cb9",
   "metadata": {},
   "source": [
    "#### 1) Resumen Estadístico de country_data"
   ]
  },
  {
   "cell_type": "code",
   "execution_count": 38,
   "id": "b0fd36ec",
   "metadata": {},
   "outputs": [
    {
     "data": {
      "text/html": [
       "<div>\n",
       "<style scoped>\n",
       "    .dataframe tbody tr th:only-of-type {\n",
       "        vertical-align: middle;\n",
       "    }\n",
       "\n",
       "    .dataframe tbody tr th {\n",
       "        vertical-align: top;\n",
       "    }\n",
       "\n",
       "    .dataframe thead th {\n",
       "        text-align: right;\n",
       "    }\n",
       "</style>\n",
       "<table border=\"1\" class=\"dataframe\">\n",
       "  <thead>\n",
       "    <tr style=\"text-align: right;\">\n",
       "      <th></th>\n",
       "      <th>Variable</th>\n",
       "      <th>Min</th>\n",
       "      <th>Max</th>\n",
       "      <th>Avg</th>\n",
       "      <th>StdDev</th>\n",
       "    </tr>\n",
       "  </thead>\n",
       "  <tbody>\n",
       "    <tr>\n",
       "      <th>0</th>\n",
       "      <td>gdp_2023_billion_usd</td>\n",
       "      <td>3.46</td>\n",
       "      <td>27720.71</td>\n",
       "      <td>2157.13</td>\n",
       "      <td>5126.16</td>\n",
       "    </tr>\n",
       "    <tr>\n",
       "      <th>1</th>\n",
       "      <td>total_population</td>\n",
       "      <td>628886.00</td>\n",
       "      <td>1410710000.00</td>\n",
       "      <td>93393540.76</td>\n",
       "      <td>227740347.48</td>\n",
       "    </tr>\n",
       "    <tr>\n",
       "      <th>2</th>\n",
       "      <td>female_pop_total_percent</td>\n",
       "      <td>35.99</td>\n",
       "      <td>53.98</td>\n",
       "      <td>50.41</td>\n",
       "      <td>2.63</td>\n",
       "    </tr>\n",
       "    <tr>\n",
       "      <th>3</th>\n",
       "      <td>male_pop_total_percent</td>\n",
       "      <td>46.02</td>\n",
       "      <td>64.01</td>\n",
       "      <td>49.59</td>\n",
       "      <td>2.63</td>\n",
       "    </tr>\n",
       "    <tr>\n",
       "      <th>4</th>\n",
       "      <td>population_growth_2023</td>\n",
       "      <td>-8.42</td>\n",
       "      <td>3.98</td>\n",
       "      <td>0.75</td>\n",
       "      <td>1.95</td>\n",
       "    </tr>\n",
       "    <tr>\n",
       "      <th>5</th>\n",
       "      <td>working_age_pop_percent</td>\n",
       "      <td>52.62</td>\n",
       "      <td>81.97</td>\n",
       "      <td>65.01</td>\n",
       "      <td>4.61</td>\n",
       "    </tr>\n",
       "    <tr>\n",
       "      <th>6</th>\n",
       "      <td>dependency_ratio_2023</td>\n",
       "      <td>22.00</td>\n",
       "      <td>90.06</td>\n",
       "      <td>54.59</td>\n",
       "      <td>10.91</td>\n",
       "    </tr>\n",
       "  </tbody>\n",
       "</table>\n",
       "</div>"
      ],
      "text/plain": [
       "                   Variable       Min           Max         Avg       StdDev\n",
       "0      gdp_2023_billion_usd      3.46      27720.71     2157.13      5126.16\n",
       "1          total_population 628886.00 1410710000.00 93393540.76 227740347.48\n",
       "2  female_pop_total_percent     35.99         53.98       50.41         2.63\n",
       "3    male_pop_total_percent     46.02         64.01       49.59         2.63\n",
       "4    population_growth_2023     -8.42          3.98        0.75         1.95\n",
       "5   working_age_pop_percent     52.62         81.97       65.01         4.61\n",
       "6     dependency_ratio_2023     22.00         90.06       54.59        10.91"
      ]
     },
     "execution_count": 38,
     "metadata": {},
     "output_type": "execute_result"
    }
   ],
   "source": [
    "\n",
    "query = \"\"\"\n",
    "    SELECT \n",
    "        'gdp_2023_billion_usd' AS variable, \n",
    "        MIN(gdp_2023_billion_usd) AS min, \n",
    "        MAX(gdp_2023_billion_usd) AS max, \n",
    "        AVG(gdp_2023_billion_usd) AS avg,\n",
    "        STDDEV(gdp_2023_billion_usd) AS stddev\n",
    "    FROM country_data\n",
    "    UNION ALL\n",
    "    SELECT \n",
    "        'total_population', MIN(total_population), MAX(total_population), AVG(total_population), STDDEV(total_population)\n",
    "    FROM country_data\n",
    "    UNION ALL\n",
    "    SELECT \n",
    "        'female_pop_total_percent', MIN(female_pop_total_percent), MAX(female_pop_total_percent), AVG(female_pop_total_percent), STDDEV(female_pop_total_percent)\n",
    "    FROM country_data\n",
    "    UNION ALL\n",
    "    SELECT \n",
    "        'male_pop_total_percent', MIN(male_pop_total_percent), MAX(male_pop_total_percent), AVG(male_pop_total_percent), STDDEV(male_pop_total_percent)\n",
    "    FROM country_data\n",
    "    UNION ALL\n",
    "    SELECT \n",
    "        'population_growth_2023', MIN(population_growth_2023), MAX(population_growth_2023), AVG(population_growth_2023), STDDEV(population_growth_2023)\n",
    "    FROM country_data\n",
    "    UNION ALL\n",
    "    SELECT \n",
    "        'working_age_pop_percent', MIN(working_age_pop_percent), MAX(working_age_pop_percent), AVG(working_age_pop_percent), STDDEV(working_age_pop_percent)\n",
    "    FROM country_data\n",
    "    UNION ALL\n",
    "    SELECT \n",
    "        'dependency_ratio_2023', MIN(dependency_ratio_2023), MAX(dependency_ratio_2023), AVG(dependency_ratio_2023), STDDEV(dependency_ratio_2023)\n",
    "    FROM country_data;\n",
    "\"\"\"\n",
    "\n",
    "# Ejecutar la consulta\n",
    "result = session.execute(text(query))\n",
    "\n",
    "# Convertir los resultados a un DataFrame\n",
    "country_stats_df = pd.DataFrame(result.fetchall(), columns=['Variable', 'Min', 'Max', 'Avg', 'StdDev'])\n",
    "\n",
    "# Mostrar tabla ordenada\n",
    "country_stats_df\n",
    "\n"
   ]
  },
  {
   "cell_type": "markdown",
   "id": "d72a7a75-6c9a-4d2e-91aa-98f8f084500e",
   "metadata": {},
   "source": [
    "**1. GDP 2023 (gdp_2023_billion_usd)**  \n",
    "- El PIB varía significativamente entre países, con un mínimo de **3.46 mil millones USD** y un máximo de **27,720.71 mil millones USD**.  \n",
    "- La media es **2,157.13 mil millones USD**, pero la alta desviación estándar (**5,126.16**) sugiere una gran dispersión en los valores, indicando que algunos países tienen un PIB extremadamente alto mientras que otros tienen un PIB mucho menor.  \n",
    "\n",
    "**2. Población Total (total_population)**  \n",
    "- Hay una enorme diferencia entre el país con menor población (**628,886 habitantes**) y el de mayor población (**1,410,710,000 habitantes**).  \n",
    "- La media es **933,935,407**, pero la altísima desviación estándar (**2.27e+09**) confirma una distribución muy desigual de la población entre países.  \n",
    "\n",
    "**3. Proporción de Población Femenina y Masculina**  \n",
    "- **Población femenina (female_pop_total_percent)**: oscila entre **35.99% y 53.98%**, con una media de **50.41%**.  \n",
    "- **Población masculina (male_pop_total_percent)**: varía entre **46.02% y 64.01%**, con una media de **49.59%**.  \n",
    "- Como era de esperarse, la suma de ambas variables se mantiene cerca del **100%**, y la baja desviación estándar (**2.63**) indica que estas proporciones no varían demasiado entre países.  \n",
    "\n",
    "**4. Crecimiento Poblacional 2023 (population_growth_2023)**  \n",
    "- Se observa que algunos países tienen un **crecimiento negativo** (**-8.42%**), mientras que otros presentan un crecimiento del **3.98%**.  \n",
    "- La media es **0.75%**, lo que sugiere que en general la población sigue creciendo, aunque algunos países están experimentando una disminución poblacional.  \n",
    "- La desviación estándar de **1.95** indica una variabilidad considerable entre los países.  \n",
    "\n",
    "**5. Población en Edad de Trabajar (working_age_pop_percent)**  \n",
    "- El porcentaje de población en edad de trabajar varía entre **52.62% y 81.97%**, con una media de **65.01%**.  \n",
    "- La desviación estándar de **4.61** sugiere una distribución moderadamente dispersa entre países.  \n",
    "\n",
    "**6. Índice de Dependencia (dependency_ratio_2023)**  \n",
    "- El índice de dependencia, que mide la relación entre la población dependiente (jóvenes y ancianos) y la población en edad de trabajar, oscila entre **22.00 y 90.06**.  \n",
    "- La media de **54.59** sugiere que, en promedio, hay aproximadamente **55 dependientes por cada 100 personas en edad de trabajar**.  \n",
    "- La desviación estándar de **10.91** indica que algunos países tienen poblaciones mucho más envejecidas o jóvenes en comparación con otros.  \n"
   ]
  },
  {
   "cell_type": "markdown",
   "id": "efeda715",
   "metadata": {},
   "source": [
    "#### 2)  Resumen Estadístico de events_stats"
   ]
  },
  {
   "cell_type": "code",
   "execution_count": 39,
   "id": "c9778cfa",
   "metadata": {},
   "outputs": [
    {
     "data": {
      "text/html": [
       "<div>\n",
       "<style scoped>\n",
       "    .dataframe tbody tr th:only-of-type {\n",
       "        vertical-align: middle;\n",
       "    }\n",
       "\n",
       "    .dataframe tbody tr th {\n",
       "        vertical-align: top;\n",
       "    }\n",
       "\n",
       "    .dataframe thead th {\n",
       "        text-align: right;\n",
       "    }\n",
       "</style>\n",
       "<table border=\"1\" class=\"dataframe\">\n",
       "  <thead>\n",
       "    <tr style=\"text-align: right;\">\n",
       "      <th></th>\n",
       "      <th>Variable</th>\n",
       "      <th>Min</th>\n",
       "      <th>Max</th>\n",
       "      <th>Avg</th>\n",
       "      <th>StdDev</th>\n",
       "    </tr>\n",
       "  </thead>\n",
       "  <tbody>\n",
       "    <tr>\n",
       "      <th>0</th>\n",
       "      <td>attendance</td>\n",
       "      <td>0.00</td>\n",
       "      <td>57127.00</td>\n",
       "      <td>10912.29</td>\n",
       "      <td>6287.10</td>\n",
       "    </tr>\n",
       "    <tr>\n",
       "      <th>1</th>\n",
       "      <td>Unique Event Categories</td>\n",
       "      <td>332.00</td>\n",
       "      <td>-</td>\n",
       "      <td>-</td>\n",
       "      <td>-</td>\n",
       "    </tr>\n",
       "    <tr>\n",
       "      <th>2</th>\n",
       "      <td>Unique Venues</td>\n",
       "      <td>237.00</td>\n",
       "      <td>-</td>\n",
       "      <td>-</td>\n",
       "      <td>-</td>\n",
       "    </tr>\n",
       "    <tr>\n",
       "      <th>3</th>\n",
       "      <td>Unique Cities</td>\n",
       "      <td>153.00</td>\n",
       "      <td>-</td>\n",
       "      <td>-</td>\n",
       "      <td>-</td>\n",
       "    </tr>\n",
       "    <tr>\n",
       "      <th>4</th>\n",
       "      <td>Unique Countries</td>\n",
       "      <td>18.00</td>\n",
       "      <td>-</td>\n",
       "      <td>-</td>\n",
       "      <td>-</td>\n",
       "    </tr>\n",
       "  </tbody>\n",
       "</table>\n",
       "</div>"
      ],
      "text/plain": [
       "                  Variable    Min      Max      Avg  StdDev\n",
       "0               attendance   0.00 57127.00 10912.29 6287.10\n",
       "1  Unique Event Categories 332.00        -        -       -\n",
       "2            Unique Venues 237.00        -        -       -\n",
       "3            Unique Cities 153.00        -        -       -\n",
       "4         Unique Countries  18.00        -        -       -"
      ]
     },
     "execution_count": 39,
     "metadata": {},
     "output_type": "execute_result"
    }
   ],
   "source": [
    "query = \"\"\"\n",
    "    SELECT \n",
    "        'attendance' AS variable, \n",
    "        MIN(attendance) AS min, \n",
    "        MAX(attendance) AS max, \n",
    "        AVG(attendance) AS avg,\n",
    "        STDDEV(attendance) AS stddev\n",
    "    FROM events_stats;\n",
    "\"\"\"\n",
    "\n",
    "# Ejecutar la consulta\n",
    "result = session.execute(text(query))\n",
    "\n",
    "# Convertir los resultados a un DataFrame\n",
    "events_stats_df = pd.DataFrame(result.fetchall(), columns=['Variable', 'Min', 'Max', 'Avg', 'StdDev'])\n",
    "\n",
    "# Agregar conteo de eventos únicos, ciudades y países\n",
    "query_counts = \"\"\"\n",
    "    SELECT \n",
    "        COUNT(DISTINCT event_category) AS unique_event_categories,\n",
    "        COUNT(DISTINCT venue) AS unique_venues,\n",
    "        COUNT(DISTINCT city) AS unique_cities,\n",
    "        COUNT(DISTINCT country) AS unique_countries\n",
    "    FROM events_stats;\n",
    "\"\"\"\n",
    "result_counts = session.execute(text(query_counts))\n",
    "counts = result_counts.fetchone()\n",
    "\n",
    "# Convertir a DataFrame\n",
    "extra_stats_df = pd.DataFrame({\n",
    "    'Variable': ['Unique Event Categories', 'Unique Venues', 'Unique Cities', 'Unique Countries'],\n",
    "    'Min': [counts[0], counts[1], counts[2], counts[3]],\n",
    "    'Max': ['-', '-', '-', '-'],\n",
    "    'Avg': ['-', '-', '-', '-'],\n",
    "    'StdDev': ['-', '-', '-', '-']\n",
    "})\n",
    "\n",
    "# Concatenar con las estadísticas anteriores\n",
    "events_stats_df = pd.concat([events_stats_df, extra_stats_df], ignore_index=True)\n",
    "\n",
    "# Mostrar tabla\n",
    "events_stats_df\n",
    "\n"
   ]
  },
  {
   "cell_type": "markdown",
   "id": "513873b8-60e8-460d-93f6-f7afa08b524f",
   "metadata": {},
   "source": [
    "**1. Asistencia a los eventos (attendance)**  \n",
    "- Hay eventos con **0 asistentes**, lo que sugiere que algunos pueden haber sido cancelados o realizados sin público.(Seguramente durante el periodo de la pandemia)  \n",
    "- El evento con mayor asistencia tuvo **57,127 espectadores**.  \n",
    "- La media de asistencia es de **10,912.29**, pero la desviación estándar de **6,287.10** indica que hay una gran variabilidad en la cantidad de asistentes por evento.  \n",
    "\n",
    "**2. Número de categorías de eventos (Unique Event Categories)**  \n",
    "- Existen **332 categorías únicas de eventos**, lo que sugiere una gran variedad de tipos de eventos registrados.  \n",
    "\n",
    "**3. Número de sedes (Unique Venues)**  \n",
    "- Hay **237 sedes únicas**, lo que indica que los eventos se han distribuido en un gran número de lugares diferentes.  \n",
    "\n",
    "**4. Número de ciudades (Unique Cities)**  \n",
    "- Se han registrado eventos en **153 ciudades distintas**, lo que muestra una distribución geográfica amplia de las competiciones.  \n",
    "\n",
    "**5. Número de países (Unique Countries)**  \n",
    "- Los eventos han tenido lugar en **18 países**, lo que indica que se trata de una competición con un alcance internacional, aunque no tan globalizado como otras ligas o competiciones.  \n"
   ]
  },
  {
   "cell_type": "markdown",
   "id": "b2dab85a",
   "metadata": {},
   "source": [
    "#### 3)  Resumen Estadístico de fighters_stats"
   ]
  },
  {
   "cell_type": "code",
   "execution_count": 40,
   "id": "fe77597e",
   "metadata": {},
   "outputs": [
    {
     "data": {
      "text/html": [
       "<div>\n",
       "<style scoped>\n",
       "    .dataframe tbody tr th:only-of-type {\n",
       "        vertical-align: middle;\n",
       "    }\n",
       "\n",
       "    .dataframe tbody tr th {\n",
       "        vertical-align: top;\n",
       "    }\n",
       "\n",
       "    .dataframe thead th {\n",
       "        text-align: right;\n",
       "    }\n",
       "</style>\n",
       "<table border=\"1\" class=\"dataframe\">\n",
       "  <thead>\n",
       "    <tr style=\"text-align: right;\">\n",
       "      <th></th>\n",
       "      <th>Variable</th>\n",
       "      <th>Min</th>\n",
       "      <th>Max</th>\n",
       "      <th>Avg</th>\n",
       "      <th>StdDev</th>\n",
       "    </tr>\n",
       "  </thead>\n",
       "  <tbody>\n",
       "    <tr>\n",
       "      <th>0</th>\n",
       "      <td>age</td>\n",
       "      <td>22.00</td>\n",
       "      <td>43.00</td>\n",
       "      <td>32.78</td>\n",
       "      <td>3.59</td>\n",
       "    </tr>\n",
       "    <tr>\n",
       "      <th>1</th>\n",
       "      <td>wins</td>\n",
       "      <td>6.00</td>\n",
       "      <td>38.00</td>\n",
       "      <td>18.28</td>\n",
       "      <td>5.77</td>\n",
       "    </tr>\n",
       "    <tr>\n",
       "      <th>2</th>\n",
       "      <td>losses</td>\n",
       "      <td>0.00</td>\n",
       "      <td>21.00</td>\n",
       "      <td>4.91</td>\n",
       "      <td>3.43</td>\n",
       "    </tr>\n",
       "    <tr>\n",
       "      <th>3</th>\n",
       "      <td>draws</td>\n",
       "      <td>0.00</td>\n",
       "      <td>2.00</td>\n",
       "      <td>0.16</td>\n",
       "      <td>0.41</td>\n",
       "    </tr>\n",
       "    <tr>\n",
       "      <th>4</th>\n",
       "      <td>win_percent</td>\n",
       "      <td>54.84</td>\n",
       "      <td>100.00</td>\n",
       "      <td>80.28</td>\n",
       "      <td>9.81</td>\n",
       "    </tr>\n",
       "    <tr>\n",
       "      <th>5</th>\n",
       "      <td>lose_percent</td>\n",
       "      <td>0.00</td>\n",
       "      <td>45.16</td>\n",
       "      <td>19.72</td>\n",
       "      <td>9.81</td>\n",
       "    </tr>\n",
       "    <tr>\n",
       "      <th>6</th>\n",
       "      <td>height_ft</td>\n",
       "      <td>5.08</td>\n",
       "      <td>6.58</td>\n",
       "      <td>5.80</td>\n",
       "      <td>0.35</td>\n",
       "    </tr>\n",
       "    <tr>\n",
       "      <th>7</th>\n",
       "      <td>weight_lbs</td>\n",
       "      <td>115.00</td>\n",
       "      <td>266.00</td>\n",
       "      <td>161.25</td>\n",
       "      <td>40.80</td>\n",
       "    </tr>\n",
       "    <tr>\n",
       "      <th>8</th>\n",
       "      <td>arm_reach_inch</td>\n",
       "      <td>60.50</td>\n",
       "      <td>84.50</td>\n",
       "      <td>71.47</td>\n",
       "      <td>5.07</td>\n",
       "    </tr>\n",
       "    <tr>\n",
       "      <th>9</th>\n",
       "      <td>leg_reach_inch</td>\n",
       "      <td>35.00</td>\n",
       "      <td>47.50</td>\n",
       "      <td>40.04</td>\n",
       "      <td>2.80</td>\n",
       "    </tr>\n",
       "    <tr>\n",
       "      <th>10</th>\n",
       "      <td>Unique Weight Divisions</td>\n",
       "      <td>11.00</td>\n",
       "      <td>-</td>\n",
       "      <td>-</td>\n",
       "      <td>-</td>\n",
       "    </tr>\n",
       "  </tbody>\n",
       "</table>\n",
       "</div>"
      ],
      "text/plain": [
       "                   Variable    Min    Max    Avg StdDev\n",
       "0                       age  22.00  43.00  32.78   3.59\n",
       "1                      wins   6.00  38.00  18.28   5.77\n",
       "2                    losses   0.00  21.00   4.91   3.43\n",
       "3                     draws   0.00   2.00   0.16   0.41\n",
       "4               win_percent  54.84 100.00  80.28   9.81\n",
       "5              lose_percent   0.00  45.16  19.72   9.81\n",
       "6                 height_ft   5.08   6.58   5.80   0.35\n",
       "7                weight_lbs 115.00 266.00 161.25  40.80\n",
       "8            arm_reach_inch  60.50  84.50  71.47   5.07\n",
       "9            leg_reach_inch  35.00  47.50  40.04   2.80\n",
       "10  Unique Weight Divisions  11.00      -      -      -"
      ]
     },
     "execution_count": 40,
     "metadata": {},
     "output_type": "execute_result"
    }
   ],
   "source": [
    "query = \"\"\"\n",
    "    SELECT \n",
    "        'age' AS variable, MIN(age), MAX(age), AVG(age), STDDEV(age) FROM fighters_stats\n",
    "    UNION ALL\n",
    "    SELECT \n",
    "        'wins', MIN(wins), MAX(wins), AVG(wins), STDDEV(wins) FROM fighters_stats\n",
    "    UNION ALL\n",
    "    SELECT \n",
    "        'losses', MIN(losses), MAX(losses), AVG(losses), STDDEV(losses) FROM fighters_stats\n",
    "    UNION ALL\n",
    "    SELECT \n",
    "        'draws', MIN(draws), MAX(draws), AVG(draws), STDDEV(draws) FROM fighters_stats\n",
    "    UNION ALL\n",
    "    SELECT \n",
    "        'win_percent', MIN(win_percent), MAX(win_percent), AVG(win_percent), STDDEV(win_percent) FROM fighters_stats\n",
    "    UNION ALL\n",
    "    SELECT \n",
    "        'lose_percent', MIN(lose_percent), MAX(lose_percent), AVG(lose_percent), STDDEV(lose_percent) FROM fighters_stats\n",
    "    UNION ALL\n",
    "    SELECT \n",
    "        'height_ft', MIN(height_ft), MAX(height_ft), AVG(height_ft), STDDEV(height_ft) FROM fighters_stats\n",
    "    UNION ALL\n",
    "    SELECT \n",
    "        'weight_lbs', MIN(weight_lbs), MAX(weight_lbs), AVG(weight_lbs), STDDEV(weight_lbs) FROM fighters_stats\n",
    "    UNION ALL\n",
    "    SELECT \n",
    "        'arm_reach_inch', MIN(arm_reach_inch), MAX(arm_reach_inch), AVG(arm_reach_inch), STDDEV(arm_reach_inch) FROM fighters_stats\n",
    "    UNION ALL\n",
    "    SELECT \n",
    "        'leg_reach_inch', MIN(leg_reach_inch), MAX(leg_reach_inch), AVG(leg_reach_inch), STDDEV(leg_reach_inch) FROM fighters_stats;\n",
    "\"\"\"\n",
    "\n",
    "# Ejecutar la consulta\n",
    "result = session.execute(text(query))\n",
    "\n",
    "# Convertir los resultados a un DataFrame\n",
    "fighters_stats_df = pd.DataFrame(result.fetchall(), columns=['Variable', 'Min', 'Max', 'Avg', 'StdDev'])\n",
    "\n",
    "# Obtener el número de divisiones de peso\n",
    "query_weight_divisions = \"\"\"\n",
    "    SELECT COUNT(DISTINCT weight_division) FROM fighters_stats;\n",
    "\"\"\"\n",
    "result_weight_divisions = session.execute(text(query_weight_divisions))\n",
    "weight_divisions_count = result_weight_divisions.fetchone()[0]\n",
    "\n",
    "# Agregar la cantidad de divisiones de peso a la tabla\n",
    "extra_fighter_stats = pd.DataFrame({\n",
    "    'Variable': ['Unique Weight Divisions'],\n",
    "    'Min': [weight_divisions_count],\n",
    "    'Max': ['-'],\n",
    "    'Avg': ['-'],\n",
    "    'StdDev': ['-']\n",
    "})\n",
    "\n",
    "# Concatenar con las estadísticas anteriores\n",
    "fighters_stats_df = pd.concat([fighters_stats_df, extra_fighter_stats], ignore_index=True)\n",
    "\n",
    "# Mostrar tabla\n",
    "fighters_stats_df\n"
   ]
  },
  {
   "cell_type": "markdown",
   "id": "688e6529-6914-448e-93ea-d72b96530146",
   "metadata": {},
   "source": [
    "**1. Edad (age)**  \n",
    "- La edad mínima es **22 años** y la máxima **43 años**, con una media de **32.78 años**.  \n",
    "- La desviación estándar de **3.59** sugiere que la mayoría de los peleadores están en un rango relativamente cercano a la media.  \n",
    "\n",
    "**2. Victorias (wins)**  \n",
    "- El número de victorias oscila entre **6 y 38**, con un promedio de **18.28 victorias**.  \n",
    "- La desviación estándar de **5.77** indica una variabilidad moderada en el número de victorias.  \n",
    "\n",
    "**3. Derrotas (losses)**  \n",
    "- Algunos peleadores no han perdido ninguna pelea (**mínimo: 0**), mientras que el máximo de derrotas es **21**.  \n",
    "- La media es de **4.91 derrotas**, con una desviación estándar de **3.43**, lo que indica que la mayoría de los peleadores han sufrido algunas derrotas.  \n",
    "\n",
    "**4. Empates (draws)**  \n",
    "- La mayoría de los peleadores tienen **cero empates**, con un máximo de **2**.  \n",
    "- La media de **0.16** y la baja desviación estándar (**0.41**) sugieren que los empates son poco frecuentes.  \n",
    "\n",
    "**5. Porcentaje de victorias (win_percent)**  \n",
    "- El porcentaje de victorias oscila entre **54.84% y 100%**, con una media del **80.28%**.  \n",
    "- La desviación estándar de **9.81** indica que algunos peleadores tienen récords más dominantes que otros.  \n",
    "\n",
    "**6. Porcentaje de derrotas (lose_percent)**  \n",
    "- Varía desde **0% (peleadores invictos) hasta 45.16%**, con un promedio de **19.72%**.  \n",
    "- Esto sugiere que, en general, los peleadores tienen más victorias que derrotas.  \n",
    "\n",
    "**7. Altura (height_ft)**  \n",
    "- La altura mínima es de **5.08 pies (≈1.55 m)** y la máxima **6.58 pies (≈2.00 m)**, con una media de **5.80 pies (≈1.77 m)**.  \n",
    "- La baja desviación estándar de **0.35** indica que la mayoría de los peleadores tienen alturas similares.  \n",
    "\n",
    "**8. Peso (weight_lbs)**  \n",
    "- Los pesos varían desde **115 libras (≈52 kg) hasta 266 libras (≈121 kg)**, con una media de **161.25 libras (≈73 kg)**.  \n",
    "- La desviación estándar de **40.80** sugiere una gran variabilidad en el peso, lo que es esperado debido a la existencia de múltiples divisiones de peso.  \n",
    "\n",
    "**9. Alcance de brazos (arm_reach_inch)**  \n",
    "- El alcance de brazos varía entre **60.5 y 84.5 pulgadas**, con una media de **71.47 pulgadas (≈1.82 m)**.  \n",
    "- La desviación estándar de **5.07** indica una variabilidad considerable entre peleadores.  \n",
    "\n",
    "**10. Alcance de piernas (leg_reach_inch)**  \n",
    "- El alcance de piernas oscila entre **35 y 47.5 pulgadas**, con una media de **40.04 pulgadas (≈1.02 m)**.  \n",
    "- La desviación estándar de **2.80** sugiere que la mayoría de los peleadores tienen un alcance de piernas cercano a la media.  \n",
    "\n",
    "**11. Número de divisiones de peso (Unique Weight Divisions)**  \n",
    "- Existen **11 divisiones de peso**, lo que indica que los peleadores están distribuidos en varias categorías según su peso.  "
   ]
  },
  {
   "cell_type": "markdown",
   "id": "744a7457",
   "metadata": {},
   "source": [
    "### EDA univariante grafico"
   ]
  },
  {
   "cell_type": "markdown",
   "id": "ad3c4d5b",
   "metadata": {},
   "source": [
    "#### 1) country_data"
   ]
  },
  {
   "cell_type": "code",
   "execution_count": 41,
   "id": "93f63b63",
   "metadata": {},
   "outputs": [
    {
     "data": {
      "image/png": "[encoded data removed]",
      "text/plain": [
       "<Figure size 800x1500 with 5 Axes>"
      ]
     },
     "metadata": {},
     "output_type": "display_data"
    }
   ],
   "source": [
    "# Obtener los datos\n",
    "query = \"\"\"\n",
    "    SELECT gdp_2023_billion_usd, total_population, population_growth_2023, \n",
    "           working_age_pop_percent, dependency_ratio_2023\n",
    "    FROM country_data;\n",
    "\"\"\"\n",
    "result = session.execute(text(query))\n",
    "df_country = pd.DataFrame(result.fetchall(), columns=['GDP (Billion USD)', 'Total Population', \n",
    "                                                      'Population Growth (%)', 'Working Age Pop (%)', \n",
    "                                                      'Dependency Ratio'])\n",
    "\n",
    "# Crear boxplots individuales\n",
    "fig, axes = plt.subplots(nrows=5, ncols=1, figsize=(8, 15))  \n",
    "variables = df_country.columns\n",
    "\n",
    "for i, var in enumerate(variables):\n",
    "    sns.boxplot(data=df_country[var], ax=axes[i], orient='h')\n",
    "    axes[i].set_title(f'Distribución de {var}')\n",
    "    axes[i].set_xlabel('')\n",
    "\n",
    "plt.tight_layout()\n",
    "plt.show()\n",
    "\n"
   ]
  },
  {
   "cell_type": "markdown",
   "id": "c1f1ae20",
   "metadata": {},
   "source": [
    "Observando las distintas distribuciones, podemos concluir que:  \n",
    "\n",
    "**1. GDP (Producto Interno Bruto en miles de millones de USD)**  \n",
    "- Hay una gran variabilidad en los valores del PIB entre los países.  \n",
    "- La mayoría de los países tienen un PIB relativamente bajo, mientras que unos pocos presentan valores extremadamente altos, lo que genera valores atípicos (probablemente grandes economías como EE.UU. o China).  \n",
    "\n",
    "**2. Población total**  \n",
    "- Se observa una distribución sesgada con la mayoría de los países teniendo poblaciones relativamente bajas.  \n",
    "- Hay valores atípicos significativos correspondientes a países con poblaciones extremadamente altas (posiblemente India y China).  \n",
    "\n",
    "**3. Crecimiento de la población (%)**  \n",
    "- La mayoría de los países tienen tasas de crecimiento entre 0 % y 3 %, pero existen valores negativos que indican países con decrecimiento poblacional.  \n",
    "- También se observan algunos valores atípicos con caídas drásticas en la población.  \n",
    "\n",
    "**4. Porcentaje de población en edad de trabajar**  \n",
    "- La mayor parte de los países tienen entre el 60 % y el 70 % de su población en edad de trabajar.  \n",
    "- Existen algunos valores atípicos con porcentajes significativamente más bajos o más altos, lo que podría estar relacionado con envejecimiento poblacional o estructuras demográficas particulares.  \n",
    "\n",
    "**5. Ratio de dependencia**  \n",
    "- La mediana del ratio de dependencia se encuentra alrededor de 50-60 %, indicando que en la mayoría de los países, cada persona en edad de trabajar debe sostener a aproximadamente 0.5-0.6 personas dependientes.  \n",
    "- Existen valores atípicos con ratios extremadamente altos, lo que sugiere poblaciones envejecidas o con una alta proporción de jóvenes dependientes.  \n",
    "\n"
   ]
  },
  {
   "cell_type": "markdown",
   "id": "65b50724-e546-41dc-a8d4-903cd198c1ba",
   "metadata": {},
   "source": [
    "#### 2) events_stats"
   ]
  },
  {
   "cell_type": "markdown",
   "id": "7421a318-efbf-4b63-931f-90704b7a2f49",
   "metadata": {},
   "source": [
    "La unica variable de la que tiene sentido analizar la distribucion, es de la variable attendance , que representa la asistencia de cada evento:"
   ]
  },
  {
   "cell_type": "code",
   "execution_count": 42,
   "id": "76a73f8a-948e-431a-8114-c0be30d971c2",
   "metadata": {},
   "outputs": [
    {
     "data": {
      "image/png": "[encoded data removed]",
      "text/plain": [
       "<Figure size 800x400 with 1 Axes>"
      ]
     },
     "metadata": {},
     "output_type": "display_data"
    }
   ],
   "source": [
    "# Obtener los datos de asistencia a eventos\n",
    "query = \"\"\"\n",
    "    SELECT attendance\n",
    "    FROM events_stats;\n",
    "\"\"\"\n",
    "result = session.execute(text(query))\n",
    "df_events = pd.DataFrame(result.fetchall(), columns=['Attendance'])\n",
    "\n",
    "# Crear boxplot\n",
    "plt.figure(figsize=(8, 4))\n",
    "sns.boxplot(data=df_events, orient='h')\n",
    "plt.title(\"Distribución de Asistencia a Eventos\")\n",
    "plt.xlabel(\"Asistencia\")\n",
    "plt.show()\n"
   ]
  },
  {
   "cell_type": "markdown",
   "id": "3a1de377",
   "metadata": {},
   "source": [
    "**Comentarios acerca de la asistencia a eventos**  \n",
    "- La distribución de la asistencia a eventos muestra una gran variabilidad en los datos.  \n",
    "- La mediana se encuentra alrededor de los **10000 asistentes**, lo que indica que en la mayoría de los eventos la asistencia se sitúa cerca de este valor.  \n",
    "- Se observa una **asimetría positiva**, con valores atípicos en el extremo superior que representan eventos con asistencias mucho mayores al promedio.  \n",
    "- Algunos eventos han registrado asistencias superiores a **30000, 40000 e incluso 50000 asistentes**, lo que indica la existencia de megaeventos con una audiencia significativamente superior al resto.  \n",
    "- La presencia de estos valores atípicos sugiere que, si bien la mayoría de los eventos tienen una asistencia moderada, existen ciertos casos excepcionales con una concurrencia masiva.  \n"
   ]
  },
  {
   "cell_type": "markdown",
   "id": "6f2192a3",
   "metadata": {},
   "source": [
    "#### 3) fighters_stats"
   ]
  },
  {
   "cell_type": "code",
   "execution_count": 43,
   "id": "3a4cc0cb",
   "metadata": {},
   "outputs": [
    {
     "data": {
      "image/png": "[encoded data removed]",
      "text/plain": [
       "<Figure size 800x2000 with 11 Axes>"
      ]
     },
     "metadata": {},
     "output_type": "display_data"
    }
   ],
   "source": [
    "# Obtener los datos de fighters_stats\n",
    "query = \"\"\"\n",
    "    SELECT age, wins, losses, draws, win_percent, lose_percent, num_of_fights,\n",
    "           height_ft, weight_lbs, arm_reach_inch, leg_reach_inch\n",
    "    FROM fighters_stats;\n",
    "\"\"\"\n",
    "result = session.execute(text(query))\n",
    "df_fighters = pd.DataFrame(result.fetchall(), columns=['Age', 'Wins', 'Losses', 'Draws', \n",
    "                                                       'Win Percent', 'Lose Percent', 'Total Fights', \n",
    "                                                       'Height (ft)', 'Weight (lbs)', \n",
    "                                                       'Arm Reach (in)', 'Leg Reach (in)'])\n",
    "\n",
    "# Crear boxplots individuales\n",
    "fig, axes = plt.subplots(nrows=len(df_fighters.columns), ncols=1, figsize=(8, 20))\n",
    "\n",
    "for i, var in enumerate(df_fighters.columns):\n",
    "    sns.boxplot(data=df_fighters[var], ax=axes[i], orient='h')\n",
    "    axes[i].set_title(f'Distribución de {var}')\n",
    "    axes[i].set_xlabel('')\n",
    "\n",
    "plt.tight_layout()\n",
    "plt.show()\n"
   ]
  },
  {
   "cell_type": "markdown",
   "id": "9c56a2fa",
   "metadata": {},
   "source": [
    "Observando las distintas distribuciones, podemos concluir que:\n",
    "\n",
    "**1. Edad**: \n",
    "\n",
    "- La mayoría de los peleadores tienen entre 28 y 36 años, con algunos valores atípicos menores de 25 y mayores de 40.\n",
    "\n",
    "**2. Victorias y derrotas**:\n",
    "\n",
    "- Hay una amplia dispersión en el número de victorias, con un rango intercuartílico entre 12 y 25. Sin embargo, hay peleadores con más de 35 victorias que se consideran valores atípicos.\n",
    "- Las derrotas tienen una distribución más homogénea, con la mayoría de los peleadores entre 0 y 10 derrotas.\n",
    "\n",
    "**3. Empates**: \n",
    "\n",
    "- La mayoría de los peleadores tienen 0 empates, lo que sugiere que los combates suelen terminar en victoria o derrota. Sin embargo, hay algunos peleadores con hasta 2 empates, considerados atípicos.\n",
    "\n",
    "**4. Porcentaje de victorias y derrotas**:\n",
    "\n",
    "- La mediana del porcentaje de victorias está alrededor del 80 %, lo que indica que la mayoría de los peleadores han ganado una proporción alta de sus combates.\n",
    "El porcentaje de derrotas muestra una mayor variabilidad, con algunos peleadores perdiendo casi todos sus combates.\n",
    "\n",
    "**5. Número total de peleas**:\n",
    "\n",
    "- La mayoría de los peleadores han tenido entre 10 y 35 peleas, pero hay valores atípicos con más de 50 combates, lo que sugiere peleadores con carreras muy largas.\n",
    "\n",
    "**6. Altura y peso**:\n",
    "\n",
    "- La altura tiene una distribución relativamente homogénea, con la mayoría de los peleadores entre 5'6\" y 6'0\".\n",
    "- El peso muestra una mayor variabilidad debido a las diferentes categorías de peso en la competencia. Hay peleadores más ligeros en torno a 120-140 libras y otros en el extremo superior con más de 260 libras (posibles pesos pesados).\n",
    "\n",
    "**7. Alcance de brazos y piernas**:\n",
    "\n",
    "- Ambos muestran distribuciones similares, con la mayoría de los peleadores teniendo un alcance de brazos entre 65 y 75 pulgadas, y de piernas entre 36 y 44 pulgadas."
   ]
  },
  {
   "cell_type": "markdown",
   "id": "5e410396",
   "metadata": {},
   "source": [
    "### Analisis Multivariante Grafico"
   ]
  },
  {
   "cell_type": "markdown",
   "id": "e81eed50",
   "metadata": {},
   "source": [
    "Ahora realizaremos un analisis para mostrar las relaciones entre dos o mas variables del conjunto de datos, estos son los mas interesantes:"
   ]
  },
  {
   "cell_type": "markdown",
   "id": "5ee56849",
   "metadata": {},
   "source": [
    "#### 1) Evaluación de la Calidad de los Luchadores por País: Relación entre el Porcentaje de Victorias y la Nacionalidad"
   ]
  },
  {
   "cell_type": "markdown",
   "id": "77c7a778",
   "metadata": {},
   "source": [
    "Con este analisis podriamos ver la \"calidad\" de los luchadores de cada pais, siendo los paises con una media de porcentaje de victorias mas altos lo paises de los cuales provienen los mejores luchadores."
   ]
  },
  {
   "cell_type": "code",
   "execution_count": 44,
   "id": "45b07979",
   "metadata": {},
   "outputs": [
    {
     "name": "stderr",
     "output_type": "stream",
     "text": [
      "/tmp/ipykernel_200/2398659442.py:28: FutureWarning: \n",
      "\n",
      "Passing `palette` without assigning `hue` is deprecated and will be removed in v0.14.0. Assign the `x` variable to `hue` and set `legend=False` for the same effect.\n",
      "\n",
      "  sns.barplot(x='country', y='avg_wins', data=fighters_country_data, palette=colors)\n"
     ]
    },
    {
     "data": {
      "image/png": "[encoded data removed]",
      "text/plain": [
       "<Figure size 1200x600 with 1 Axes>"
      ]
     },
     "metadata": {},
     "output_type": "display_data"
    }
   ],
   "source": [
    "query = \"\"\"\n",
    "    SELECT f.country, AVG(f.win_percent) AS avg_wins\n",
    "    FROM fighters_stats f\n",
    "    GROUP BY f.country;\n",
    "\"\"\"\n",
    "\n",
    "# Ejecutar la consulta y obtener los resultados\n",
    "result = session.execute(text(query))\n",
    "\n",
    "# Convertir los resultados a un DataFrame\n",
    "fighters_country_data = pd.DataFrame(result.fetchall(), columns=['country', 'avg_wins'])\n",
    "\n",
    "# Ordenar por media de victorias para mejor visualización\n",
    "fighters_country_data = fighters_country_data.sort_values(by='avg_wins', ascending=True)\n",
    "\n",
    "# Normalizar los valores para asignar colores (asegurando que sean tipo float)\n",
    "norm = (fighters_country_data['avg_wins'] - fighters_country_data['avg_wins'].min()) / \\\n",
    "       (fighters_country_data['avg_wins'].max() - fighters_country_data['avg_wins'].min())\n",
    "\n",
    "# Convertir a tipo float explícitamente\n",
    "norm = norm.astype(float)\n",
    "\n",
    "# Crear una lista de colores (de rojo a verde)\n",
    "colors = [plt.cm.RdYlGn(value) for value in norm.to_numpy()]\n",
    "\n",
    "# Graficar un histograma donde cada barra representa un país\n",
    "plt.figure(figsize=(12, 6))\n",
    "sns.barplot(x='country', y='avg_wins', data=fighters_country_data, palette=colors)\n",
    "\n",
    "plt.title('Media de porcentaje de victorias por País')\n",
    "plt.xlabel('País')\n",
    "plt.ylabel('Media de Porcentaje de Victorias')\n",
    "plt.xticks(rotation=90)  # Rotar los nombres de los países para mejor visibilidad\n",
    "plt.show()"
   ]
  },
  {
   "cell_type": "markdown",
   "id": "ccdbde08",
   "metadata": {},
   "source": [
    "Podemos observar que Alemania tiene los luchadores con mayor calidad, teniendo un porcentaje de victorias del 100% ( por lo tanto podemos suponer que el/los luchador/es de Alemania son invictos). El pais con la peor calidad de luchadores es Suiza cuyo porcentaje de victorias es inferior al 75%."
   ]
  },
  {
   "cell_type": "markdown",
   "id": "fa31803c",
   "metadata": {},
   "source": [
    "#### 2) Análisis de la Relación entre la Asistencia a Eventos y la Población de Cada País"
   ]
  },
  {
   "cell_type": "markdown",
   "id": "8d2abebe",
   "metadata": {},
   "source": [
    "Aqui lo que queremos identificar si existe una relacion entre la asistencia a eventos y la poblacion de un pais, es decir, queremos ver si tener una gran poblacion en un pais implica a tener una mayor asistencia promedio a los eventos de UFC"
   ]
  },
  {
   "cell_type": "code",
   "execution_count": 45,
   "id": "a3b5f176",
   "metadata": {},
   "outputs": [
    {
     "data": {
      "image/png": "[encoded data removed]",
      "text/plain": [
       "<Figure size 800x600 with 1 Axes>"
      ]
     },
     "metadata": {},
     "output_type": "display_data"
    }
   ],
   "source": [
    "query = \"\"\"\n",
    "SELECT e.country, \n",
    "       SUM(c.total_population) AS total_population, \n",
    "       AVG(e.attendance) AS avg_attendance\n",
    "FROM events_stats e\n",
    "JOIN country_data c ON e.country = c.country\n",
    "GROUP BY e.country\n",
    "ORDER BY total_population DESC;\n",
    "\n",
    "\"\"\"\n",
    "\n",
    "# Ejecutar la consulta\n",
    "result = session.execute(text(query))\n",
    "\n",
    "# Convertir a DataFrame\n",
    "df = pd.DataFrame(result.fetchall(), columns=result.keys())\n",
    "\n",
    "# Crear scatter plot\n",
    "plt.figure(figsize=(8, 6))\n",
    "sns.scatterplot(x=df[\"total_population\"], y=df[\"avg_attendance\"])\n",
    "plt.xlabel(\"Población Total\")\n",
    "plt.ylabel(\"Asistencia Promedio\")\n",
    "plt.title(\"Relación entre Población y Asistencia a Eventos\")\n",
    "plt.xscale(\"log\")  # Escala logarítmica para normalizar valores extremos\n",
    "plt.show()\n",
    "\n"
   ]
  },
  {
   "cell_type": "markdown",
   "id": "cf3a8ea8",
   "metadata": {},
   "source": [
    "No hay una correlación directa entre la población total de un país y la asistencia promedio a eventos de UFC, ya que los puntos están bastante dispersos en el gráfico. Si existiera una fuerte correlación, esperaríamos ver una tendencia clara en la que la asistencia aumentara a medida que la población crece. Sin embargo, observamos que algunos países con una población menor tienen una alta asistencia, lo que sugiere que factores como el interés en las artes marciales mixtas pueden ser más determinantes que el tamaño de la población"
   ]
  },
  {
   "cell_type": "markdown",
   "id": "ccaab37d",
   "metadata": {},
   "source": [
    "#### 3) Análisis de los Rangos de Peso en las Divisiones de Combate"
   ]
  },
  {
   "cell_type": "markdown",
   "id": "b471cdb8",
   "metadata": {},
   "source": [
    "Podemos identificar los rangos de peso de cada división al analizar los pesos de los luchadores y las categorías a las que pertenecen."
   ]
  },
  {
   "cell_type": "code",
   "execution_count": 46,
   "id": "eef90a4d",
   "metadata": {},
   "outputs": [
    {
     "data": {
      "image/png": "[encoded data removed]",
      "text/plain": [
       "<Figure size 1400x800 with 2 Axes>"
      ]
     },
     "metadata": {},
     "output_type": "display_data"
    }
   ],
   "source": [
    "query = \"\"\"\n",
    "SELECT f.weight_division,\n",
    "       MIN(f.weight_lbs) AS min_weight,\n",
    "       MAX(f.weight_lbs) AS max_weight\n",
    "FROM fighters_stats f\n",
    "GROUP BY f.weight_division\n",
    "ORDER BY (MAX(f.weight_lbs) - MIN(f.weight_lbs))\n",
    "\"\"\"\n",
    "result = session.execute(text(query))\n",
    "\n",
    "# Convertir a DataFrame\n",
    "df = pd.DataFrame(result.fetchall(), columns=result.keys())\n",
    "\n",
    "# Función para asignar el género según el nombre de la categoría de peso\n",
    "def assign_gender(weight_division):\n",
    "    # Si el nombre de la categoría contiene \"Women\", asignamos 'Female', sino 'Male'\n",
    "    if 'Women' in weight_division:\n",
    "        return 'Female'\n",
    "    else:\n",
    "        return 'Male'\n",
    "\n",
    "# Asignar el género al DataFrame\n",
    "df['gender'] = df['weight_division'].apply(assign_gender)\n",
    "\n",
    "# Separar hombres y mujeres\n",
    "df_men = df[df['gender'] == 'Male'].sort_values(by='max_weight')  # Ordenar por peso máximo\n",
    "df_women = df[df['gender'] == 'Female'].sort_values(by='max_weight')  # Ordenar por peso máximo\n",
    "\n",
    "# Graficar los intervalos de peso por género\n",
    "plt.figure(figsize=(14,8))\n",
    "\n",
    "# Gráfico para hombres\n",
    "plt.subplot(1, 2, 1)\n",
    "bars_men = plt.bar(df_men['weight_division'], df_men['max_weight'] - df_men['min_weight'], bottom=df_men['min_weight'])\n",
    "plt.xlabel('Categoría de Peso (Hombres)')\n",
    "plt.ylabel('Peso (lbs)')\n",
    "plt.title('Intervalo de Peso por Categoría de Peso (Hombres)')\n",
    "plt.xticks(rotation=45)\n",
    "\n",
    "# Añadir los valores de max y min encima y debajo de las barras\n",
    "for i, bar in enumerate(bars_men):\n",
    "    plt.text(bar.get_x() + bar.get_width() / 2, bar.get_height() + bar.get_y(), f'{df_men[\"max_weight\"].iloc[i]}', ha='center', va='bottom', fontsize=10)\n",
    "    plt.text(bar.get_x() + bar.get_width() / 2, bar.get_y(), f'{df_men[\"min_weight\"].iloc[i]}', ha='center', va='top', fontsize=10)\n",
    "\n",
    "# Gráfico para mujeres\n",
    "plt.subplot(1, 2, 2)\n",
    "bars_women = plt.bar(df_women['weight_division'], df_women['max_weight'] - df_women['min_weight'], bottom=df_women['min_weight'])\n",
    "plt.xlabel('Categoría de Peso (Mujeres)')\n",
    "plt.ylabel('Peso (lbs)')\n",
    "plt.title('Intervalo de Peso por Categoría de Peso (Mujeres)')\n",
    "plt.xticks(rotation=45)\n",
    "\n",
    "# Añadir los valores de max y min encima y debajo de las barras\n",
    "for i, bar in enumerate(bars_women):\n",
    "    plt.text(bar.get_x() + bar.get_width() / 2, bar.get_height() + bar.get_y(), f'{df_women[\"max_weight\"].iloc[i]}', ha='center', va='bottom', fontsize=10)\n",
    "    plt.text(bar.get_x() + bar.get_width() / 2, bar.get_y(), f'{df_women[\"min_weight\"].iloc[i]}', ha='center', va='top', fontsize=10)\n",
    "\n",
    "plt.tight_layout()\n",
    "plt.show()\n",
    "\n",
    "\n"
   ]
  },
  {
   "cell_type": "markdown",
   "id": "b8d58b6d",
   "metadata": {},
   "source": [
    "Hemos realizado una separación entre las categorías de peso masculinas y femeninas, dado que los combates se llevan a cabo por género. Como resultado, hemos obtenido los rangos de peso correspondientes a cada división de luchadores. Al analizar los datos, observamos que las divisiones de peso \"Flyweight\" y \"Bantamweight\" y tambien en todas las divisiones femeninas presentan un solapamiento en sus rangos, lo cual podría explicarse por la práctica común de que los luchadores ajusten su peso, subiendo o bajando, para competir en diferentes divisiones."
   ]
  },
  {
   "cell_type": "markdown",
   "id": "2205933f-04b2-4cd2-aa07-deb3096c064e",
   "metadata": {},
   "source": [
    "#### 4) Análisis de la Relación entre la Altura y el Alcance de Brazos y Piernas"
   ]
  },
  {
   "cell_type": "markdown",
   "id": "af19e558-da1f-4bc7-98b1-8d6560e73402",
   "metadata": {},
   "source": [
    "Ahora analizaremos la **relación entre la altura y el alcance de brazos y piernas** en los luchadores. El objetivo es determinar si, a medida que aumenta la altura, también lo hace el alcance de sus extremidades, lo que podría indicar una proporción constante en la estructura corporal de los peleadores."
   ]
  },
  {
   "cell_type": "code",
   "execution_count": 47,
   "id": "5d393fba-c3f0-45d4-ae56-11cf69370487",
   "metadata": {},
   "outputs": [
    {
     "data": {
      "image/png": "[encoded data removed]",
      "text/plain": [
       "<Figure size 800x600 with 1 Axes>"
      ]
     },
     "metadata": {},
     "output_type": "display_data"
    },
    {
     "data": {
      "image/png": "[encoded data removed]",
      "text/plain": [
       "<Figure size 800x600 with 1 Axes>"
      ]
     },
     "metadata": {},
     "output_type": "display_data"
    },
    {
     "name": "stdout",
     "output_type": "stream",
     "text": [
      "\n",
      "Matriz de Correlación:\n",
      "                 height_ft  arm_reach_inch  leg_reach_inch\n",
      "height_ft            1.00            0.92            0.90\n",
      "arm_reach_inch       0.92            1.00            0.85\n",
      "leg_reach_inch       0.90            0.85            1.00\n"
     ]
    },
    {
     "data": {
      "image/png": "[encoded data removed]",
      "text/plain": [
       "<Figure size 600x500 with 2 Axes>"
      ]
     },
     "metadata": {},
     "output_type": "display_data"
    }
   ],
   "source": [
    "query = \"\"\"\n",
    "SELECT height_ft, \n",
    "       arm_reach_inch, \n",
    "       leg_reach_inch\n",
    "FROM fighters_stats\n",
    "\"\"\"\n",
    "\n",
    "result = session.execute(text(query))\n",
    "\n",
    "# Convertir a DataFrame\n",
    "df = pd.DataFrame(result.fetchall(), columns=result.keys())\n",
    "\n",
    "# Crear scatter plot Altura vs Alcance Brazos\n",
    "plt.figure(figsize=(8, 6))\n",
    "sns.scatterplot(x=df[\"height_ft\"], y=df[\"arm_reach_inch\"])\n",
    "plt.xlabel(\"Altura (pies)\")\n",
    "plt.ylabel(\"Alcance Brazos (pulgadas)\")\n",
    "plt.title(\"Relación entre Altura y Alcance Brazos\")\n",
    "plt.show()\n",
    "\n",
    "# Crear scatter plot Altura vs Alcance Piernas\n",
    "plt.figure(figsize=(8, 6))\n",
    "sns.scatterplot(x=df[\"height_ft\"], y=df[\"leg_reach_inch\"])\n",
    "plt.xlabel(\"Altura (pies)\")\n",
    "plt.ylabel(\"Alcance Piernas (pulgadas)\")\n",
    "plt.title(\"Relación entre Altura y Alcance Piernas\")\n",
    "plt.show()\n",
    "\n",
    "# Calcular matriz de correlación\n",
    "correlation_matrix = df.corr()\n",
    "print(\"\\nMatriz de Correlación:\\n\", correlation_matrix)\n",
    "\n",
    "# Mostrar heatmap de la correlación\n",
    "plt.figure(figsize=(6, 5))\n",
    "sns.heatmap(correlation_matrix, annot=True, cmap=\"coolwarm\", fmt=\".2f\")\n",
    "plt.title(\"Matriz de Correlación: Altura vs. Brazos vs. Piernas\")\n",
    "plt.show()\n"
   ]
  },
  {
   "cell_type": "markdown",
   "id": "1dc28a4a-0d15-4b3b-8f0e-4da099c0232b",
   "metadata": {},
   "source": [
    "Podemos observar en los scatterplots un **patrón claro de crecimiento** a medida que aumentan la altura, el **alcance de brazos** y el **alcance de piernas**. Esto indica una relación positiva entre estas variables.  \r\n",
    "\r\n",
    "Además, al analizar la **matriz de correlación**, vemos que los valores de correlación entre las tres variables son **altos**, lo que sugiere que existe una fuerte asociación entre ellas. En otras palabras, cuando una de estas medidas aumenta, es muy probable que las demás también lo hagan.  \r\n",
    "\r\n",
    "Este resultado respalda la idea de que la **altura de un peleador está estrechamente relacionada con su alcance de brazos y piernas**, lo cual tiene sentido desde una perspectiva anatómica y deportiva."
   ]
  }
 ],
 "metadata": {
  "kernelspec": {
   "display_name": "Python 3 (ipykernel)",
   "language": "python",
   "name": "python3"
  },
  "language_info": {
   "codemirror_mode": {
    "name": "ipython",
    "version": 3
   },
   "file_extension": ".py",
   "mimetype": "text/x-python",
   "name": "python",
   "nbconvert_exporter": "python",
   "pygments_lexer": "ipython3",
   "version": "3.11.6"
  }
 },
 "nbformat": 4,
 "nbformat_minor": 5
}
